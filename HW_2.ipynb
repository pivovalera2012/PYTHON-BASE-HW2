{
 "cells": [
  {
   "cell_type": "code",
   "execution_count": 2,
   "metadata": {},
   "outputs": [],
   "source": [
    "import pandas as pd\n",
    "import numpy as np\n",
    "import matplotlib.pyplot as plt\n",
    "from matplotlib.ticker import FuncFormatter\n"
   ]
  },
  {
   "cell_type": "markdown",
   "metadata": {},
   "source": [
    "# Исследуем \"Train.csv\"\n",
    "## Список колонок и краткое их описание:\n",
    "\n",
    "* row_id: (int64) порядковый номер строки в этой таблице.\n",
    "* timestamp: (int64) время в миллисекундах между текущим взаимодействием и первым событием связанным с данным ученика.\n",
    "* user_id: (int32) идентификационный код ученика.\n",
    "* content_id: (int16) идентификационный код вопроса или лекции.\n",
    "* content_type_id: (int8) 0 если это вопрос, 1 если лекция.\n",
    "11\n",
    "* task_container_id: (int16) идентификационный код группы вопросов, в которой задан текущий вопрос.\n",
    "* user_answer: (int8) вариант ответа, который выбрал ученик. Всего вариантов может быть 4. В случае если взаимодействие - это лекция, а не вопрос, то данное поле равно -1.\n",
    "* answered_correctly: (int8) правильно ли ученик ответил на вопрос. В случае, если взаимодействие - это лекция, а не вопрос, то данное поле равно -1. Данное поле нужно будет предсказывать.\n",
    "* prior_question_elapsed_time: (float32) среднее время в миллисекундах, которое ученику потребовалось, чтобы ответить на все вопросы в предыдущей группе, игнорируя любые лекции между ними. Равен 0 для первой группы вопросов, заданной ученику.\n",
    "* prior_question_had_explanation: (bool) смотрел ли ученик объяснение и правильный ответ на предыдущий вопрос.\n"
   ]
  },
  {
   "cell_type": "code",
   "execution_count": 8,
   "metadata": {},
   "outputs": [],
   "source": [
    "dtypes = {\n",
    "    \"row_id\": \"int64\",\n",
    "    \"timestamp\": \"int64\",\n",
    "    \"user_id\": \"int32\",\n",
    "    \"content_id\": \"int16\",\n",
    "    \"content_type_id\": \"boolean\",\n",
    "    \"task_container_id\": \"int16\",\n",
    "    \"user_answer\": \"int8\",\n",
    "    \"answered_correctly\": \"int8\",\n",
    "    \"prior_question_elapsed_time\": \"float32\", \n",
    "    \"prior_question_had_explanation\": \"boolean\"\n",
    "}\n",
    "\n",
    "df_train = pd.read_csv('Data/train.csv', dtype=dtypes)"
   ]
  },
  {
   "cell_type": "code",
   "execution_count": 6,
   "metadata": {},
   "outputs": [
    {
     "data": {
      "text/html": [
       "<div>\n",
       "<style scoped>\n",
       "    .dataframe tbody tr th:only-of-type {\n",
       "        vertical-align: middle;\n",
       "    }\n",
       "\n",
       "    .dataframe tbody tr th {\n",
       "        vertical-align: top;\n",
       "    }\n",
       "\n",
       "    .dataframe thead th {\n",
       "        text-align: right;\n",
       "    }\n",
       "</style>\n",
       "<table border=\"1\" class=\"dataframe\">\n",
       "  <thead>\n",
       "    <tr style=\"text-align: right;\">\n",
       "      <th></th>\n",
       "      <th>row_id</th>\n",
       "      <th>timestamp</th>\n",
       "      <th>user_id</th>\n",
       "      <th>content_id</th>\n",
       "      <th>content_type_id</th>\n",
       "      <th>task_container_id</th>\n",
       "      <th>user_answer</th>\n",
       "      <th>answered_correctly</th>\n",
       "      <th>prior_question_elapsed_time</th>\n",
       "      <th>prior_question_had_explanation</th>\n",
       "    </tr>\n",
       "  </thead>\n",
       "  <tbody>\n",
       "    <tr>\n",
       "      <th>0</th>\n",
       "      <td>0</td>\n",
       "      <td>0</td>\n",
       "      <td>115</td>\n",
       "      <td>5692</td>\n",
       "      <td>False</td>\n",
       "      <td>1</td>\n",
       "      <td>3</td>\n",
       "      <td>1</td>\n",
       "      <td>NaN</td>\n",
       "      <td>&lt;NA&gt;</td>\n",
       "    </tr>\n",
       "    <tr>\n",
       "      <th>1</th>\n",
       "      <td>1</td>\n",
       "      <td>56943</td>\n",
       "      <td>115</td>\n",
       "      <td>5716</td>\n",
       "      <td>False</td>\n",
       "      <td>2</td>\n",
       "      <td>2</td>\n",
       "      <td>1</td>\n",
       "      <td>37000.0</td>\n",
       "      <td>False</td>\n",
       "    </tr>\n",
       "    <tr>\n",
       "      <th>2</th>\n",
       "      <td>2</td>\n",
       "      <td>118363</td>\n",
       "      <td>115</td>\n",
       "      <td>128</td>\n",
       "      <td>False</td>\n",
       "      <td>0</td>\n",
       "      <td>0</td>\n",
       "      <td>1</td>\n",
       "      <td>55000.0</td>\n",
       "      <td>False</td>\n",
       "    </tr>\n",
       "    <tr>\n",
       "      <th>3</th>\n",
       "      <td>3</td>\n",
       "      <td>131167</td>\n",
       "      <td>115</td>\n",
       "      <td>7860</td>\n",
       "      <td>False</td>\n",
       "      <td>3</td>\n",
       "      <td>0</td>\n",
       "      <td>1</td>\n",
       "      <td>19000.0</td>\n",
       "      <td>False</td>\n",
       "    </tr>\n",
       "    <tr>\n",
       "      <th>4</th>\n",
       "      <td>4</td>\n",
       "      <td>137965</td>\n",
       "      <td>115</td>\n",
       "      <td>7922</td>\n",
       "      <td>False</td>\n",
       "      <td>4</td>\n",
       "      <td>1</td>\n",
       "      <td>1</td>\n",
       "      <td>11000.0</td>\n",
       "      <td>False</td>\n",
       "    </tr>\n",
       "  </tbody>\n",
       "</table>\n",
       "</div>"
      ],
      "text/plain": [
       "   row_id  timestamp  user_id  content_id  content_type_id  task_container_id  \\\n",
       "0       0          0      115        5692            False                  1   \n",
       "1       1      56943      115        5716            False                  2   \n",
       "2       2     118363      115         128            False                  0   \n",
       "3       3     131167      115        7860            False                  3   \n",
       "4       4     137965      115        7922            False                  4   \n",
       "\n",
       "   user_answer  answered_correctly  prior_question_elapsed_time  \\\n",
       "0            3                   1                          NaN   \n",
       "1            2                   1                      37000.0   \n",
       "2            0                   1                      55000.0   \n",
       "3            0                   1                      19000.0   \n",
       "4            1                   1                      11000.0   \n",
       "\n",
       "   prior_question_had_explanation  \n",
       "0                            <NA>  \n",
       "1                           False  \n",
       "2                           False  \n",
       "3                           False  \n",
       "4                           False  "
      ]
     },
     "metadata": {},
     "output_type": "display_data"
    }
   ],
   "source": [
    "display(df_train.head())"
   ]
  },
  {
   "cell_type": "code",
   "execution_count": 7,
   "metadata": {},
   "outputs": [
    {
     "name": "stdout",
     "output_type": "stream",
     "text": [
      "<class 'pandas.core.frame.DataFrame'>\n",
      "RangeIndex: 101230332 entries, 0 to 101230331\n",
      "Data columns (total 10 columns):\n",
      " #   Column                          Dtype  \n",
      "---  ------                          -----  \n",
      " 0   row_id                          int64  \n",
      " 1   timestamp                       int64  \n",
      " 2   user_id                         int32  \n",
      " 3   content_id                      int16  \n",
      " 4   content_type_id                 boolean\n",
      " 5   task_container_id               int16  \n",
      " 6   user_answer                     int8   \n",
      " 7   answered_correctly              int8   \n",
      " 8   prior_question_elapsed_time     float32\n",
      " 9   prior_question_had_explanation  boolean\n",
      "dtypes: boolean(2), float32(1), int16(2), int32(1), int64(2), int8(2)\n",
      "memory usage: 3.2 GB\n"
     ]
    }
   ],
   "source": [
    "df_train.info()"
   ]
  },
  {
   "cell_type": "code",
   "execution_count": 50,
   "metadata": {},
   "outputs": [],
   "source": [
    "top_id = df_train['user_id'].value_counts()[:30]"
   ]
  },
  {
   "cell_type": "code",
   "execution_count": 54,
   "metadata": {},
   "outputs": [
    {
     "data": {
      "image/png": "[encoded data removed]",
      "text/plain": [
       "<Figure size 864x432 with 1 Axes>"
      ]
     },
     "metadata": {
      "needs_background": "light"
     },
     "output_type": "display_data"
    }
   ],
   "source": [
    "fig = plt.figure(figsize=(12,6))\n",
    "ax = top_id.plot.bar()\n",
    "plt.title(\"Top 30 users by number of actions\")\n",
    "plt.xticks(rotation=90)\n",
    "ax.get_yaxis().set_major_formatter(FuncFormatter(lambda x, p: format(int(x), ',')))\n",
    "plt.xlabel(\"User ID\")\n",
    "plt.ylabel('Number of actions')\n",
    "plt.show()"
   ]
  },
  {
   "cell_type": "code",
   "execution_count": 69,
   "metadata": {},
   "outputs": [
    {
     "data": {
      "image/png": "[encoded data removed]",
      "text/plain": [
       "<Figure size 432x288 with 1 Axes>"
      ]
     },
     "metadata": {},
     "output_type": "display_data"
    }
   ],
   "source": [
    "values = []\n",
    "values.append(df_train['user_answer'].value_counts().iloc[-1])\n",
    "values.append(df_train.shape[0] - values[0])\n",
    "\n",
    "labels = ['Lection - ' + str(values[0]),'Question - '+ str(values[1])]\n",
    "colors = ['green', 'blue']\n",
    "plt.title(\"Count lections and questions\")\n",
    "plt.pie(values,labels=labels,colors=colors)\n",
    "plt.axis('equal')\n",
    "plt.show()"
   ]
  },
  {
   "cell_type": "code",
   "execution_count": 10,
   "metadata": {},
   "outputs": [
    {
     "name": "stdout",
     "output_type": "stream",
     "text": [
      "We have 13782 content ids in our train set, of which 13523 are questions.\n"
     ]
    }
   ],
   "source": [
    "print(f'We have {df_train.content_id.nunique()} content ids in our train set, of which {df_train[df_train.content_type_id == False].content_id.nunique()} are questions.')"
   ]
  },
  {
   "cell_type": "code",
   "execution_count": 56,
   "metadata": {},
   "outputs": [
    {
     "data": {
      "image/png": "[encoded data removed]",
      "text/plain": [
       "<Figure size 936x432 with 1 Axes>"
      ]
     },
     "metadata": {
      "needs_background": "light"
     },
     "output_type": "display_data"
    }
   ],
   "source": [
    "cids = df_train.content_id.value_counts()[:50]\n",
    "\n",
    "fig = plt.figure(figsize=(13,6))\n",
    "ax = cids.plot.bar()\n",
    "plt.title(\"Fifty most used content id's\")\n",
    "plt.xticks(rotation=90)\n",
    "ax.get_yaxis().set_major_formatter(FuncFormatter(lambda x, p: format(int(x), ',')))\n",
    "plt.xlabel(\"Content ID\")\n",
    "plt.ylabel('Count')\n",
    "plt.show()"
   ]
  },
  {
   "cell_type": "code",
   "execution_count": 29,
   "metadata": {},
   "outputs": [
    {
     "name": "stdout",
     "output_type": "stream",
     "text": [
      "We have 10000 unique Batches of questions or lectures.\n"
     ]
    }
   ],
   "source": [
    "print(f'We have {df_train.task_container_id.nunique()} unique Batches of questions or lectures.')"
   ]
  },
  {
   "cell_type": "code",
   "execution_count": 30,
   "metadata": {},
   "outputs": [
    {
     "data": {
      "text/plain": [
       " 0    28186489\n",
       " 1    26990007\n",
       " 3    26084784\n",
       " 2    18010020\n",
       "-1     1959032\n",
       "Name: user_answer, dtype: int64"
      ]
     },
     "execution_count": 30,
     "metadata": {},
     "output_type": "execute_result"
    }
   ],
   "source": [
    "df_train.user_answer.value_counts()"
   ]
  },
  {
   "cell_type": "code",
   "execution_count": 32,
   "metadata": {},
   "outputs": [
    {
     "data": {
      "image/png": "[encoded data removed]",
      "text/plain": [
       "<Figure size 864x432 with 1 Axes>"
      ]
     },
     "metadata": {
      "needs_background": "light"
     },
     "output_type": "display_data"
    }
   ],
   "source": [
    "ts = df_train['timestamp']/(31536000000/12)\n",
    "fig = plt.figure(figsize=(12,6))\n",
    "ts.plot.hist(bins=100)\n",
    "plt.title(\"Histogram of timestamp\")\n",
    "plt.xticks(rotation=0)\n",
    "plt.xlabel(\"Months between this user interaction and the first event completion from that user\")\n",
    "plt.show()"
   ]
  },
  {
   "cell_type": "code",
   "execution_count": 34,
   "metadata": {},
   "outputs": [
    {
     "name": "stdout",
     "output_type": "stream",
     "text": [
      "Of the 393656 users in train we have 393656 users with a timestamp zero row.\n"
     ]
    }
   ],
   "source": [
    "print(f'Of the {df_train.user_id.nunique()} users in train we have {df_train[df_train.timestamp == 0].user_id.nunique()} users with a timestamp zero row.')"
   ]
  },
  {
   "cell_type": "code",
   "execution_count": 36,
   "metadata": {},
   "outputs": [
    {
     "name": "stdout",
     "output_type": "stream",
     "text": [
      "0    34026673\n",
      "1    65244627\n",
      "Name: answered_correctly, dtype: int64\n"
     ]
    }
   ],
   "source": [
    "correct = df_train[df_train.answered_correctly != -1].answered_correctly.value_counts(ascending=True)\n",
    "print(correct)"
   ]
  },
  {
   "cell_type": "code",
   "execution_count": 39,
   "metadata": {},
   "outputs": [
    {
     "data": {
      "image/png": "[encoded data removed]",
      "text/plain": [
       "<Figure size 864x288 with 1 Axes>"
      ]
     },
     "metadata": {
      "needs_background": "light"
     },
     "output_type": "display_data"
    }
   ],
   "source": [
    "fig = plt.figure(figsize=(12,4))\n",
    "correct.plot.barh()\n",
    "for i, v in zip(correct.index, correct.values):\n",
    "    plt.text(v, i, '{:,}'.format(v), color='white', fontweight='bold', fontsize=14, ha='right', va='center')\n",
    "plt.title(\"Questions answered correctly\")\n",
    "plt.xticks(rotation=0)\n",
    "plt.show()"
   ]
  },
  {
   "cell_type": "code",
   "execution_count": 52,
   "metadata": {},
   "outputs": [],
   "source": [
    "df_train_part_1 = df_train.head(int(df_train.shape[0] / 50)) #1/50 of all data"
   ]
  },
  {
   "cell_type": "code",
   "execution_count": 53,
   "metadata": {},
   "outputs": [
    {
     "name": "stderr",
     "output_type": "stream",
     "text": [
      "C:\\Users\\pva\\AppData\\Local\\Temp\\ipykernel_2472\\975260757.py:2: SettingWithCopyWarning: \n",
      "A value is trying to be set on a copy of a slice from a DataFrame.\n",
      "Try using .loc[row_indexer,col_indexer] = value instead\n",
      "\n",
      "See the caveats in the documentation: https://pandas.pydata.org/pandas-docs/stable/user_guide/indexing.html#returning-a-view-versus-a-copy\n",
      "  df_train_part_1['ts_bin'] = pd.qcut(df_train_part_1['timestamp'], q=5, labels=bin_labels_5)\n"
     ]
    }
   ],
   "source": [
    "bin_labels_5 = ['Bin_1', 'Bin_2', 'Bin_3', 'Bin_4', 'Bin_5']\n",
    "df_train_part_1['ts_bin'] = pd.qcut(df_train_part_1['timestamp'], q=5, labels=bin_labels_5)"
   ]
  },
  {
   "cell_type": "code",
   "execution_count": 57,
   "metadata": {},
   "outputs": [],
   "source": [
    "def correct(field):\n",
    "    correct = df_train_part_1[df_train_part_1.answered_correctly != -1].groupby([field, 'answered_correctly'], as_index=False).size()\n",
    "    correct = correct.pivot(index= field, columns='answered_correctly', values='size')\n",
    "    correct['Percent_correct'] = round(correct.iloc[:,1]/(correct.iloc[:,0] + correct.iloc[:,1]),2)\n",
    "    correct = correct.sort_values(by = \"Percent_correct\", ascending = False)\n",
    "    correct = correct.iloc[:,2]\n",
    "    return(correct)\n",
    "\n",
    "bins_correct = correct(\"ts_bin\")\n",
    "bins_correct = bins_correct.sort_index()"
   ]
  },
  {
   "cell_type": "code",
   "execution_count": 59,
   "metadata": {},
   "outputs": [
    {
     "data": {
      "image/png": "[encoded data removed]",
      "text/plain": [
       "<Figure size 864x432 with 1 Axes>"
      ]
     },
     "metadata": {
      "needs_background": "light"
     },
     "output_type": "display_data"
    }
   ],
   "source": [
    "fig = plt.figure(figsize=(12,6))\n",
    "plt.bar(bins_correct.index, bins_correct.values)\n",
    "for i, v in zip(bins_correct.index, bins_correct.values):\n",
    "    plt.text(i, v, v, color='white', fontweight='bold', fontsize=14, va='top', ha='center')\n",
    "plt.title(\"Percent answered_correctly for 5 bins of timestamp (1/50 of all data)\")\n",
    "plt.xticks(rotation=0)\n",
    "plt.show()"
   ]
  },
  {
   "cell_type": "code",
   "execution_count": 60,
   "metadata": {},
   "outputs": [
    {
     "data": {
      "image/png": "[encoded data removed]",
      "text/plain": [
       "<Figure size 864x432 with 1 Axes>"
      ]
     },
     "metadata": {
      "needs_background": "light"
     },
     "output_type": "display_data"
    }
   ],
   "source": [
    "task_id_correct = correct(\"task_container_id\")\n",
    "\n",
    "fig = plt.figure(figsize=(12,6))\n",
    "task_id_correct.plot.hist(bins=40)\n",
    "plt.title(\"Histogram of percent_correct grouped by task_container_id\")\n",
    "plt.xticks(rotation=0)\n",
    "plt.show()"
   ]
  },
  {
   "cell_type": "code",
   "execution_count": 62,
   "metadata": {},
   "outputs": [
    {
     "name": "stdout",
     "output_type": "stream",
     "text": [
      "the highest number of questions answered by a user is 17609\n"
     ]
    }
   ],
   "source": [
    "user_percent = df_train[df_train.answered_correctly != -1].groupby('user_id')['answered_correctly'].agg(Mean='mean', Answers='count')\n",
    "print(f'the highest number of questions answered by a user is {user_percent.Answers.max()}')\n"
   ]
  },
  {
   "cell_type": "code",
   "execution_count": 65,
   "metadata": {},
   "outputs": [
    {
     "data": {
      "image/png": "[encoded data removed]",
      "text/plain": [
       "<Figure size 864x432 with 1 Axes>"
      ]
     },
     "metadata": {
      "needs_background": "light"
     },
     "output_type": "display_data"
    }
   ],
   "source": [
    "user_percent_1 = user_percent.query('Answers <= 1000').sample(n=200, random_state=1)\n",
    "\n",
    "fig = plt.figure(figsize=(12,6))\n",
    "x = user_percent_1.Answers\n",
    "y = user_percent_1.Mean\n",
    "plt.scatter(x, y, marker='o')\n",
    "plt.title(\"Percent answered correctly versus number of questions answered User\")\n",
    "plt.xticks(rotation=0)\n",
    "plt.xlabel(\"Number of questions answered\")\n",
    "plt.ylabel(\"Percent answered correctly\")\n",
    "z = np.polyfit(x, y, 1)\n",
    "p = np.poly1d(z)\n",
    "plt.plot(x,p(x),\"r--\")\n",
    "\n",
    "plt.show()"
   ]
  },
  {
   "cell_type": "code",
   "execution_count": 73,
   "metadata": {},
   "outputs": [],
   "source": [
    "df_train_part_2 = df_train.head(int(df_train.shape[0] / 2)) #1/2 of all data"
   ]
  },
  {
   "cell_type": "code",
   "execution_count": 75,
   "metadata": {},
   "outputs": [
    {
     "name": "stdout",
     "output_type": "stream",
     "text": [
      "The highest number of questions asked by content_id is 105957.\n",
      "Of 13517 content_ids, 114 content_ids had more than 25,000 questions asked.\n"
     ]
    }
   ],
   "source": [
    "content_percent = df_train_part_2[df_train_part_2.answered_correctly != -1].groupby('content_id')['answered_correctly'].agg(Mean='mean', Answers='count')\n",
    "print(f'The highest number of questions asked by content_id is {content_percent.Answers.max()}.')\n",
    "print(f'Of {len(content_percent)} content_ids, {len(content_percent[content_percent.Answers > 25000])} content_ids had more than 25,000 questions asked.')"
   ]
  },
  {
   "cell_type": "code",
   "execution_count": 76,
   "metadata": {},
   "outputs": [
    {
     "data": {
      "image/png": "[encoded data removed]",
      "text/plain": [
       "<Figure size 864x432 with 1 Axes>"
      ]
     },
     "metadata": {
      "needs_background": "light"
     },
     "output_type": "display_data"
    }
   ],
   "source": [
    "content_percent = content_percent.query('Answers <= 25000').sample(n=200, random_state=1)\n",
    "\n",
    "fig = plt.figure(figsize=(12,6))\n",
    "x = content_percent.Answers\n",
    "y = content_percent.Mean\n",
    "plt.scatter(x, y, marker='o')\n",
    "plt.title(\"Percent answered correctly versus number of questions answered Content_id\")\n",
    "plt.xticks(rotation=0)\n",
    "plt.xlabel(\"Number of questions answered\")\n",
    "plt.ylabel(\"Percent answered correctly\")\n",
    "z = np.polyfit(x, y, 1)\n",
    "p = np.poly1d(z)\n",
    "plt.plot(x,p(x),\"r--\")\n",
    "\n",
    "plt.show()"
   ]
  },
  {
   "cell_type": "code",
   "execution_count": null,
   "metadata": {},
   "outputs": [],
   "source": []
  },
  {
   "cell_type": "markdown",
   "metadata": {},
   "source": [
    "#  Исследуем \"Questions.csv\"\n",
    "## Список колонок:\n",
    "* question_id   - внешний ключ(foreign key) для связывание данной информации с таблицей train.\n",
    "* bundle_id     - код по которому вопросы объединяются в группы.\n",
    "* correct_answer- правильный ответ на вопрос.\n",
    "* part          - один из семи типов вопросов TOEIC.\n",
    "* tags          - один или несколько кодов с тэгами для данного вопроса. Описание тэгов не представлено, но самих кодов достаточно для того, чтобы сделать кластеризацию.\n"
   ]
  },
  {
   "cell_type": "code",
   "execution_count": 5,
   "metadata": {},
   "outputs": [
    {
     "data": {
      "text/html": [
       "<div>\n",
       "<style scoped>\n",
       "    .dataframe tbody tr th:only-of-type {\n",
       "        vertical-align: middle;\n",
       "    }\n",
       "\n",
       "    .dataframe tbody tr th {\n",
       "        vertical-align: top;\n",
       "    }\n",
       "\n",
       "    .dataframe thead th {\n",
       "        text-align: right;\n",
       "    }\n",
       "</style>\n",
       "<table border=\"1\" class=\"dataframe\">\n",
       "  <thead>\n",
       "    <tr style=\"text-align: right;\">\n",
       "      <th></th>\n",
       "      <th>question_id</th>\n",
       "      <th>bundle_id</th>\n",
       "      <th>correct_answer</th>\n",
       "      <th>part</th>\n",
       "      <th>tags</th>\n",
       "    </tr>\n",
       "  </thead>\n",
       "  <tbody>\n",
       "    <tr>\n",
       "      <th>0</th>\n",
       "      <td>0</td>\n",
       "      <td>0</td>\n",
       "      <td>0</td>\n",
       "      <td>1</td>\n",
       "      <td>51 131 162 38</td>\n",
       "    </tr>\n",
       "    <tr>\n",
       "      <th>1</th>\n",
       "      <td>1</td>\n",
       "      <td>1</td>\n",
       "      <td>1</td>\n",
       "      <td>1</td>\n",
       "      <td>131 36 81</td>\n",
       "    </tr>\n",
       "    <tr>\n",
       "      <th>2</th>\n",
       "      <td>2</td>\n",
       "      <td>2</td>\n",
       "      <td>0</td>\n",
       "      <td>1</td>\n",
       "      <td>131 101 162 92</td>\n",
       "    </tr>\n",
       "    <tr>\n",
       "      <th>3</th>\n",
       "      <td>3</td>\n",
       "      <td>3</td>\n",
       "      <td>0</td>\n",
       "      <td>1</td>\n",
       "      <td>131 149 162 29</td>\n",
       "    </tr>\n",
       "    <tr>\n",
       "      <th>4</th>\n",
       "      <td>4</td>\n",
       "      <td>4</td>\n",
       "      <td>3</td>\n",
       "      <td>1</td>\n",
       "      <td>131 5 162 38</td>\n",
       "    </tr>\n",
       "  </tbody>\n",
       "</table>\n",
       "</div>"
      ],
      "text/plain": [
       "   question_id  bundle_id  correct_answer  part            tags\n",
       "0            0          0               0     1   51 131 162 38\n",
       "1            1          1               1     1       131 36 81\n",
       "2            2          2               0     1  131 101 162 92\n",
       "3            3          3               0     1  131 149 162 29\n",
       "4            4          4               3     1    131 5 162 38"
      ]
     },
     "metadata": {},
     "output_type": "display_data"
    }
   ],
   "source": [
    "df_questions =  pd.read_csv('Data/questions.csv')\n",
    "display(df_questions.head())"
   ]
  },
  {
   "cell_type": "code",
   "execution_count": 7,
   "metadata": {},
   "outputs": [
    {
     "data": {
      "text/html": [
       "<div>\n",
       "<style scoped>\n",
       "    .dataframe tbody tr th:only-of-type {\n",
       "        vertical-align: middle;\n",
       "    }\n",
       "\n",
       "    .dataframe tbody tr th {\n",
       "        vertical-align: top;\n",
       "    }\n",
       "\n",
       "    .dataframe thead th {\n",
       "        text-align: right;\n",
       "    }\n",
       "</style>\n",
       "<table border=\"1\" class=\"dataframe\">\n",
       "  <thead>\n",
       "    <tr style=\"text-align: right;\">\n",
       "      <th></th>\n",
       "      <th>question_id</th>\n",
       "      <th>bundle_id</th>\n",
       "      <th>correct_answer</th>\n",
       "      <th>part</th>\n",
       "      <th>tags</th>\n",
       "    </tr>\n",
       "  </thead>\n",
       "  <tbody>\n",
       "    <tr>\n",
       "      <th>10033</th>\n",
       "      <td>10033</td>\n",
       "      <td>10033</td>\n",
       "      <td>2</td>\n",
       "      <td>6</td>\n",
       "      <td>NaN</td>\n",
       "    </tr>\n",
       "  </tbody>\n",
       "</table>\n",
       "</div>"
      ],
      "text/plain": [
       "       question_id  bundle_id  correct_answer  part tags\n",
       "10033        10033      10033               2     6  NaN"
      ]
     },
     "execution_count": 7,
     "metadata": {},
     "output_type": "execute_result"
    }
   ],
   "source": [
    "df_questions[df_questions.tags.isna()]"
   ]
  },
  {
   "cell_type": "code",
   "execution_count": 12,
   "metadata": {},
   "outputs": [
    {
     "data": {
      "text/html": [
       "<div>\n",
       "<style scoped>\n",
       "    .dataframe tbody tr th:only-of-type {\n",
       "        vertical-align: middle;\n",
       "    }\n",
       "\n",
       "    .dataframe tbody tr th {\n",
       "        vertical-align: top;\n",
       "    }\n",
       "\n",
       "    .dataframe thead th {\n",
       "        text-align: right;\n",
       "    }\n",
       "</style>\n",
       "<table border=\"1\" class=\"dataframe\">\n",
       "  <thead>\n",
       "    <tr style=\"text-align: right;\">\n",
       "      <th></th>\n",
       "      <th>row_id</th>\n",
       "      <th>timestamp</th>\n",
       "      <th>user_id</th>\n",
       "      <th>content_id</th>\n",
       "      <th>content_type_id</th>\n",
       "      <th>task_container_id</th>\n",
       "      <th>user_answer</th>\n",
       "      <th>answered_correctly</th>\n",
       "      <th>prior_question_elapsed_time</th>\n",
       "      <th>prior_question_had_explanation</th>\n",
       "    </tr>\n",
       "  </thead>\n",
       "  <tbody>\n",
       "    <tr>\n",
       "      <th>62750278</th>\n",
       "      <td>62750278</td>\n",
       "      <td>1286282597</td>\n",
       "      <td>1333688829</td>\n",
       "      <td>10033</td>\n",
       "      <td>False</td>\n",
       "      <td>1127</td>\n",
       "      <td>2</td>\n",
       "      <td>1</td>\n",
       "      <td>35000.0</td>\n",
       "      <td>True</td>\n",
       "    </tr>\n",
       "  </tbody>\n",
       "</table>\n",
       "</div>"
      ],
      "text/plain": [
       "            row_id   timestamp     user_id  content_id  content_type_id  \\\n",
       "62750278  62750278  1286282597  1333688829       10033            False   \n",
       "\n",
       "          task_container_id  user_answer  answered_correctly  \\\n",
       "62750278               1127            2                   1   \n",
       "\n",
       "          prior_question_elapsed_time  prior_question_had_explanation  \n",
       "62750278                      35000.0                            True  "
      ]
     },
     "execution_count": 12,
     "metadata": {},
     "output_type": "execute_result"
    }
   ],
   "source": [
    "df_train.query('content_id == 10033 and answered_correctly != -1')"
   ]
  },
  {
   "cell_type": "code",
   "execution_count": 13,
   "metadata": {},
   "outputs": [
    {
     "name": "stdout",
     "output_type": "stream",
     "text": [
      "There are 188 different tags\n"
     ]
    }
   ],
   "source": [
    "df_questions['tags'] = df_questions['tags'].astype(str)\n",
    "\n",
    "tags = [x.split() for x in df_questions[df_questions.tags != \"nan\"].tags.values]\n",
    "tags = [item for elem in tags for item in elem]\n",
    "tags = set(tags)\n",
    "tags = list(tags)\n",
    "print(f'There are {len(tags)} different tags')"
   ]
  },
  {
   "cell_type": "code",
   "execution_count": 14,
   "metadata": {},
   "outputs": [
    {
     "data": {
      "text/html": [
       "<div>\n",
       "<style scoped>\n",
       "    .dataframe tbody tr th:only-of-type {\n",
       "        vertical-align: middle;\n",
       "    }\n",
       "\n",
       "    .dataframe tbody tr th {\n",
       "        vertical-align: top;\n",
       "    }\n",
       "\n",
       "    .dataframe thead th {\n",
       "        text-align: right;\n",
       "    }\n",
       "</style>\n",
       "<table border=\"1\" class=\"dataframe\">\n",
       "  <thead>\n",
       "    <tr style=\"text-align: right;\">\n",
       "      <th></th>\n",
       "      <th>question_id</th>\n",
       "      <th>bundle_id</th>\n",
       "      <th>correct_answer</th>\n",
       "      <th>part</th>\n",
       "      <th>tags</th>\n",
       "      <th>Wrong</th>\n",
       "      <th>Right</th>\n",
       "    </tr>\n",
       "  </thead>\n",
       "  <tbody>\n",
       "    <tr>\n",
       "      <th>0</th>\n",
       "      <td>0</td>\n",
       "      <td>0</td>\n",
       "      <td>0</td>\n",
       "      <td>1</td>\n",
       "      <td>[51, 131, 162, 38]</td>\n",
       "      <td>637</td>\n",
       "      <td>6266</td>\n",
       "    </tr>\n",
       "    <tr>\n",
       "      <th>1</th>\n",
       "      <td>1</td>\n",
       "      <td>1</td>\n",
       "      <td>1</td>\n",
       "      <td>1</td>\n",
       "      <td>[131, 36, 81]</td>\n",
       "      <td>809</td>\n",
       "      <td>6589</td>\n",
       "    </tr>\n",
       "    <tr>\n",
       "      <th>2</th>\n",
       "      <td>2</td>\n",
       "      <td>2</td>\n",
       "      <td>0</td>\n",
       "      <td>1</td>\n",
       "      <td>[131, 101, 162, 92]</td>\n",
       "      <td>20015</td>\n",
       "      <td>24890</td>\n",
       "    </tr>\n",
       "    <tr>\n",
       "      <th>3</th>\n",
       "      <td>3</td>\n",
       "      <td>3</td>\n",
       "      <td>0</td>\n",
       "      <td>1</td>\n",
       "      <td>[131, 149, 162, 29]</td>\n",
       "      <td>5067</td>\n",
       "      <td>17906</td>\n",
       "    </tr>\n",
       "    <tr>\n",
       "      <th>4</th>\n",
       "      <td>4</td>\n",
       "      <td>4</td>\n",
       "      <td>3</td>\n",
       "      <td>1</td>\n",
       "      <td>[131, 5, 162, 38]</td>\n",
       "      <td>12275</td>\n",
       "      <td>19461</td>\n",
       "    </tr>\n",
       "  </tbody>\n",
       "</table>\n",
       "</div>"
      ],
      "text/plain": [
       "   question_id  bundle_id  correct_answer  part                 tags  Wrong  \\\n",
       "0            0          0               0     1   [51, 131, 162, 38]    637   \n",
       "1            1          1               1     1        [131, 36, 81]    809   \n",
       "2            2          2               0     1  [131, 101, 162, 92]  20015   \n",
       "3            3          3               0     1  [131, 149, 162, 29]   5067   \n",
       "4            4          4               3     1    [131, 5, 162, 38]  12275   \n",
       "\n",
       "   Right  \n",
       "0   6266  \n",
       "1   6589  \n",
       "2  24890  \n",
       "3  17906  \n",
       "4  19461  "
      ]
     },
     "execution_count": 14,
     "metadata": {},
     "output_type": "execute_result"
    }
   ],
   "source": [
    "tags_list = [x.split() for x in df_questions.tags.values]\n",
    "df_questions['tags'] = tags_list\n",
    "df_questions.head()\n",
    "\n",
    "correct = df_train[df_train.answered_correctly != -1].groupby([\"content_id\", 'answered_correctly'], as_index=False).size()\n",
    "correct = correct.pivot(index= \"content_id\", columns='answered_correctly', values='size')\n",
    "correct.columns = ['Wrong', 'Right']\n",
    "correct = correct.fillna(0)\n",
    "correct[['Wrong', 'Right']] = correct[['Wrong', 'Right']].astype(int)\n",
    "questions = df_questions.merge(correct, left_on = \"question_id\", right_on = \"content_id\", how = \"left\")\n",
    "questions.head()"
   ]
  },
  {
   "cell_type": "code",
   "execution_count": 15,
   "metadata": {},
   "outputs": [
    {
     "data": {
      "text/plain": [
       "array([list(['51', '131', '162', '38']), list(['131', '36', '81']),\n",
       "       list(['131', '101', '162', '92']), ..., list(['73']),\n",
       "       list(['125']), list(['55'])], dtype=object)"
      ]
     },
     "execution_count": 15,
     "metadata": {},
     "output_type": "execute_result"
    }
   ],
   "source": [
    "questions.tags.values"
   ]
  },
  {
   "cell_type": "code",
   "execution_count": 16,
   "metadata": {},
   "outputs": [
    {
     "name": "stderr",
     "output_type": "stream",
     "text": [
      "C:\\Users\\pva\\AppData\\Local\\Temp\\ipykernel_4840\\1870187398.py:9: FutureWarning: The frame.append method is deprecated and will be removed from pandas in a future version. Use pandas.concat instead.\n",
      "  tags_df = tags_df.append(df1)\n",
      "C:\\Users\\pva\\AppData\\Local\\Temp\\ipykernel_4840\\1870187398.py:9: FutureWarning: The frame.append method is deprecated and will be removed from pandas in a future version. Use pandas.concat instead.\n",
      "  tags_df = tags_df.append(df1)\n",
      "C:\\Users\\pva\\AppData\\Local\\Temp\\ipykernel_4840\\1870187398.py:9: FutureWarning: The frame.append method is deprecated and will be removed from pandas in a future version. Use pandas.concat instead.\n",
      "  tags_df = tags_df.append(df1)\n",
      "C:\\Users\\pva\\AppData\\Local\\Temp\\ipykernel_4840\\1870187398.py:9: FutureWarning: The frame.append method is deprecated and will be removed from pandas in a future version. Use pandas.concat instead.\n",
      "  tags_df = tags_df.append(df1)\n",
      "C:\\Users\\pva\\AppData\\Local\\Temp\\ipykernel_4840\\1870187398.py:9: FutureWarning: The frame.append method is deprecated and will be removed from pandas in a future version. Use pandas.concat instead.\n",
      "  tags_df = tags_df.append(df1)\n",
      "C:\\Users\\pva\\AppData\\Local\\Temp\\ipykernel_4840\\1870187398.py:9: FutureWarning: The frame.append method is deprecated and will be removed from pandas in a future version. Use pandas.concat instead.\n",
      "  tags_df = tags_df.append(df1)\n",
      "C:\\Users\\pva\\AppData\\Local\\Temp\\ipykernel_4840\\1870187398.py:9: FutureWarning: The frame.append method is deprecated and will be removed from pandas in a future version. Use pandas.concat instead.\n",
      "  tags_df = tags_df.append(df1)\n",
      "C:\\Users\\pva\\AppData\\Local\\Temp\\ipykernel_4840\\1870187398.py:9: FutureWarning: The frame.append method is deprecated and will be removed from pandas in a future version. Use pandas.concat instead.\n",
      "  tags_df = tags_df.append(df1)\n",
      "C:\\Users\\pva\\AppData\\Local\\Temp\\ipykernel_4840\\1870187398.py:9: FutureWarning: The frame.append method is deprecated and will be removed from pandas in a future version. Use pandas.concat instead.\n",
      "  tags_df = tags_df.append(df1)\n",
      "C:\\Users\\pva\\AppData\\Local\\Temp\\ipykernel_4840\\1870187398.py:9: FutureWarning: The frame.append method is deprecated and will be removed from pandas in a future version. Use pandas.concat instead.\n",
      "  tags_df = tags_df.append(df1)\n",
      "C:\\Users\\pva\\AppData\\Local\\Temp\\ipykernel_4840\\1870187398.py:9: FutureWarning: The frame.append method is deprecated and will be removed from pandas in a future version. Use pandas.concat instead.\n",
      "  tags_df = tags_df.append(df1)\n",
      "C:\\Users\\pva\\AppData\\Local\\Temp\\ipykernel_4840\\1870187398.py:9: FutureWarning: The frame.append method is deprecated and will be removed from pandas in a future version. Use pandas.concat instead.\n",
      "  tags_df = tags_df.append(df1)\n",
      "C:\\Users\\pva\\AppData\\Local\\Temp\\ipykernel_4840\\1870187398.py:9: FutureWarning: The frame.append method is deprecated and will be removed from pandas in a future version. Use pandas.concat instead.\n",
      "  tags_df = tags_df.append(df1)\n",
      "C:\\Users\\pva\\AppData\\Local\\Temp\\ipykernel_4840\\1870187398.py:9: FutureWarning: The frame.append method is deprecated and will be removed from pandas in a future version. Use pandas.concat instead.\n",
      "  tags_df = tags_df.append(df1)\n",
      "C:\\Users\\pva\\AppData\\Local\\Temp\\ipykernel_4840\\1870187398.py:9: FutureWarning: The frame.append method is deprecated and will be removed from pandas in a future version. Use pandas.concat instead.\n",
      "  tags_df = tags_df.append(df1)\n",
      "C:\\Users\\pva\\AppData\\Local\\Temp\\ipykernel_4840\\1870187398.py:9: FutureWarning: The frame.append method is deprecated and will be removed from pandas in a future version. Use pandas.concat instead.\n",
      "  tags_df = tags_df.append(df1)\n",
      "C:\\Users\\pva\\AppData\\Local\\Temp\\ipykernel_4840\\1870187398.py:9: FutureWarning: The frame.append method is deprecated and will be removed from pandas in a future version. Use pandas.concat instead.\n",
      "  tags_df = tags_df.append(df1)\n",
      "C:\\Users\\pva\\AppData\\Local\\Temp\\ipykernel_4840\\1870187398.py:9: FutureWarning: The frame.append method is deprecated and will be removed from pandas in a future version. Use pandas.concat instead.\n",
      "  tags_df = tags_df.append(df1)\n",
      "C:\\Users\\pva\\AppData\\Local\\Temp\\ipykernel_4840\\1870187398.py:9: FutureWarning: The frame.append method is deprecated and will be removed from pandas in a future version. Use pandas.concat instead.\n",
      "  tags_df = tags_df.append(df1)\n",
      "C:\\Users\\pva\\AppData\\Local\\Temp\\ipykernel_4840\\1870187398.py:9: FutureWarning: The frame.append method is deprecated and will be removed from pandas in a future version. Use pandas.concat instead.\n",
      "  tags_df = tags_df.append(df1)\n",
      "C:\\Users\\pva\\AppData\\Local\\Temp\\ipykernel_4840\\1870187398.py:9: FutureWarning: The frame.append method is deprecated and will be removed from pandas in a future version. Use pandas.concat instead.\n",
      "  tags_df = tags_df.append(df1)\n",
      "C:\\Users\\pva\\AppData\\Local\\Temp\\ipykernel_4840\\1870187398.py:9: FutureWarning: The frame.append method is deprecated and will be removed from pandas in a future version. Use pandas.concat instead.\n",
      "  tags_df = tags_df.append(df1)\n",
      "C:\\Users\\pva\\AppData\\Local\\Temp\\ipykernel_4840\\1870187398.py:9: FutureWarning: The frame.append method is deprecated and will be removed from pandas in a future version. Use pandas.concat instead.\n",
      "  tags_df = tags_df.append(df1)\n",
      "C:\\Users\\pva\\AppData\\Local\\Temp\\ipykernel_4840\\1870187398.py:9: FutureWarning: The frame.append method is deprecated and will be removed from pandas in a future version. Use pandas.concat instead.\n",
      "  tags_df = tags_df.append(df1)\n",
      "C:\\Users\\pva\\AppData\\Local\\Temp\\ipykernel_4840\\1870187398.py:9: FutureWarning: The frame.append method is deprecated and will be removed from pandas in a future version. Use pandas.concat instead.\n",
      "  tags_df = tags_df.append(df1)\n",
      "C:\\Users\\pva\\AppData\\Local\\Temp\\ipykernel_4840\\1870187398.py:9: FutureWarning: The frame.append method is deprecated and will be removed from pandas in a future version. Use pandas.concat instead.\n",
      "  tags_df = tags_df.append(df1)\n",
      "C:\\Users\\pva\\AppData\\Local\\Temp\\ipykernel_4840\\1870187398.py:9: FutureWarning: The frame.append method is deprecated and will be removed from pandas in a future version. Use pandas.concat instead.\n",
      "  tags_df = tags_df.append(df1)\n",
      "C:\\Users\\pva\\AppData\\Local\\Temp\\ipykernel_4840\\1870187398.py:9: FutureWarning: The frame.append method is deprecated and will be removed from pandas in a future version. Use pandas.concat instead.\n",
      "  tags_df = tags_df.append(df1)\n",
      "C:\\Users\\pva\\AppData\\Local\\Temp\\ipykernel_4840\\1870187398.py:9: FutureWarning: The frame.append method is deprecated and will be removed from pandas in a future version. Use pandas.concat instead.\n",
      "  tags_df = tags_df.append(df1)\n",
      "C:\\Users\\pva\\AppData\\Local\\Temp\\ipykernel_4840\\1870187398.py:9: FutureWarning: The frame.append method is deprecated and will be removed from pandas in a future version. Use pandas.concat instead.\n",
      "  tags_df = tags_df.append(df1)\n",
      "C:\\Users\\pva\\AppData\\Local\\Temp\\ipykernel_4840\\1870187398.py:9: FutureWarning: The frame.append method is deprecated and will be removed from pandas in a future version. Use pandas.concat instead.\n",
      "  tags_df = tags_df.append(df1)\n",
      "C:\\Users\\pva\\AppData\\Local\\Temp\\ipykernel_4840\\1870187398.py:9: FutureWarning: The frame.append method is deprecated and will be removed from pandas in a future version. Use pandas.concat instead.\n",
      "  tags_df = tags_df.append(df1)\n",
      "C:\\Users\\pva\\AppData\\Local\\Temp\\ipykernel_4840\\1870187398.py:9: FutureWarning: The frame.append method is deprecated and will be removed from pandas in a future version. Use pandas.concat instead.\n",
      "  tags_df = tags_df.append(df1)\n",
      "C:\\Users\\pva\\AppData\\Local\\Temp\\ipykernel_4840\\1870187398.py:9: FutureWarning: The frame.append method is deprecated and will be removed from pandas in a future version. Use pandas.concat instead.\n",
      "  tags_df = tags_df.append(df1)\n",
      "C:\\Users\\pva\\AppData\\Local\\Temp\\ipykernel_4840\\1870187398.py:9: FutureWarning: The frame.append method is deprecated and will be removed from pandas in a future version. Use pandas.concat instead.\n",
      "  tags_df = tags_df.append(df1)\n",
      "C:\\Users\\pva\\AppData\\Local\\Temp\\ipykernel_4840\\1870187398.py:9: FutureWarning: The frame.append method is deprecated and will be removed from pandas in a future version. Use pandas.concat instead.\n",
      "  tags_df = tags_df.append(df1)\n",
      "C:\\Users\\pva\\AppData\\Local\\Temp\\ipykernel_4840\\1870187398.py:9: FutureWarning: The frame.append method is deprecated and will be removed from pandas in a future version. Use pandas.concat instead.\n",
      "  tags_df = tags_df.append(df1)\n",
      "C:\\Users\\pva\\AppData\\Local\\Temp\\ipykernel_4840\\1870187398.py:9: FutureWarning: The frame.append method is deprecated and will be removed from pandas in a future version. Use pandas.concat instead.\n",
      "  tags_df = tags_df.append(df1)\n",
      "C:\\Users\\pva\\AppData\\Local\\Temp\\ipykernel_4840\\1870187398.py:9: FutureWarning: The frame.append method is deprecated and will be removed from pandas in a future version. Use pandas.concat instead.\n",
      "  tags_df = tags_df.append(df1)\n",
      "C:\\Users\\pva\\AppData\\Local\\Temp\\ipykernel_4840\\1870187398.py:9: FutureWarning: The frame.append method is deprecated and will be removed from pandas in a future version. Use pandas.concat instead.\n",
      "  tags_df = tags_df.append(df1)\n",
      "C:\\Users\\pva\\AppData\\Local\\Temp\\ipykernel_4840\\1870187398.py:9: FutureWarning: The frame.append method is deprecated and will be removed from pandas in a future version. Use pandas.concat instead.\n",
      "  tags_df = tags_df.append(df1)\n",
      "C:\\Users\\pva\\AppData\\Local\\Temp\\ipykernel_4840\\1870187398.py:9: FutureWarning: The frame.append method is deprecated and will be removed from pandas in a future version. Use pandas.concat instead.\n",
      "  tags_df = tags_df.append(df1)\n",
      "C:\\Users\\pva\\AppData\\Local\\Temp\\ipykernel_4840\\1870187398.py:9: FutureWarning: The frame.append method is deprecated and will be removed from pandas in a future version. Use pandas.concat instead.\n",
      "  tags_df = tags_df.append(df1)\n",
      "C:\\Users\\pva\\AppData\\Local\\Temp\\ipykernel_4840\\1870187398.py:9: FutureWarning: The frame.append method is deprecated and will be removed from pandas in a future version. Use pandas.concat instead.\n",
      "  tags_df = tags_df.append(df1)\n",
      "C:\\Users\\pva\\AppData\\Local\\Temp\\ipykernel_4840\\1870187398.py:9: FutureWarning: The frame.append method is deprecated and will be removed from pandas in a future version. Use pandas.concat instead.\n",
      "  tags_df = tags_df.append(df1)\n",
      "C:\\Users\\pva\\AppData\\Local\\Temp\\ipykernel_4840\\1870187398.py:9: FutureWarning: The frame.append method is deprecated and will be removed from pandas in a future version. Use pandas.concat instead.\n",
      "  tags_df = tags_df.append(df1)\n",
      "C:\\Users\\pva\\AppData\\Local\\Temp\\ipykernel_4840\\1870187398.py:9: FutureWarning: The frame.append method is deprecated and will be removed from pandas in a future version. Use pandas.concat instead.\n",
      "  tags_df = tags_df.append(df1)\n",
      "C:\\Users\\pva\\AppData\\Local\\Temp\\ipykernel_4840\\1870187398.py:9: FutureWarning: The frame.append method is deprecated and will be removed from pandas in a future version. Use pandas.concat instead.\n",
      "  tags_df = tags_df.append(df1)\n",
      "C:\\Users\\pva\\AppData\\Local\\Temp\\ipykernel_4840\\1870187398.py:9: FutureWarning: The frame.append method is deprecated and will be removed from pandas in a future version. Use pandas.concat instead.\n",
      "  tags_df = tags_df.append(df1)\n",
      "C:\\Users\\pva\\AppData\\Local\\Temp\\ipykernel_4840\\1870187398.py:9: FutureWarning: The frame.append method is deprecated and will be removed from pandas in a future version. Use pandas.concat instead.\n",
      "  tags_df = tags_df.append(df1)\n",
      "C:\\Users\\pva\\AppData\\Local\\Temp\\ipykernel_4840\\1870187398.py:9: FutureWarning: The frame.append method is deprecated and will be removed from pandas in a future version. Use pandas.concat instead.\n",
      "  tags_df = tags_df.append(df1)\n",
      "C:\\Users\\pva\\AppData\\Local\\Temp\\ipykernel_4840\\1870187398.py:9: FutureWarning: The frame.append method is deprecated and will be removed from pandas in a future version. Use pandas.concat instead.\n",
      "  tags_df = tags_df.append(df1)\n",
      "C:\\Users\\pva\\AppData\\Local\\Temp\\ipykernel_4840\\1870187398.py:9: FutureWarning: The frame.append method is deprecated and will be removed from pandas in a future version. Use pandas.concat instead.\n",
      "  tags_df = tags_df.append(df1)\n",
      "C:\\Users\\pva\\AppData\\Local\\Temp\\ipykernel_4840\\1870187398.py:9: FutureWarning: The frame.append method is deprecated and will be removed from pandas in a future version. Use pandas.concat instead.\n",
      "  tags_df = tags_df.append(df1)\n",
      "C:\\Users\\pva\\AppData\\Local\\Temp\\ipykernel_4840\\1870187398.py:9: FutureWarning: The frame.append method is deprecated and will be removed from pandas in a future version. Use pandas.concat instead.\n",
      "  tags_df = tags_df.append(df1)\n",
      "C:\\Users\\pva\\AppData\\Local\\Temp\\ipykernel_4840\\1870187398.py:9: FutureWarning: The frame.append method is deprecated and will be removed from pandas in a future version. Use pandas.concat instead.\n",
      "  tags_df = tags_df.append(df1)\n",
      "C:\\Users\\pva\\AppData\\Local\\Temp\\ipykernel_4840\\1870187398.py:9: FutureWarning: The frame.append method is deprecated and will be removed from pandas in a future version. Use pandas.concat instead.\n",
      "  tags_df = tags_df.append(df1)\n",
      "C:\\Users\\pva\\AppData\\Local\\Temp\\ipykernel_4840\\1870187398.py:9: FutureWarning: The frame.append method is deprecated and will be removed from pandas in a future version. Use pandas.concat instead.\n",
      "  tags_df = tags_df.append(df1)\n",
      "C:\\Users\\pva\\AppData\\Local\\Temp\\ipykernel_4840\\1870187398.py:9: FutureWarning: The frame.append method is deprecated and will be removed from pandas in a future version. Use pandas.concat instead.\n",
      "  tags_df = tags_df.append(df1)\n",
      "C:\\Users\\pva\\AppData\\Local\\Temp\\ipykernel_4840\\1870187398.py:9: FutureWarning: The frame.append method is deprecated and will be removed from pandas in a future version. Use pandas.concat instead.\n",
      "  tags_df = tags_df.append(df1)\n",
      "C:\\Users\\pva\\AppData\\Local\\Temp\\ipykernel_4840\\1870187398.py:9: FutureWarning: The frame.append method is deprecated and will be removed from pandas in a future version. Use pandas.concat instead.\n",
      "  tags_df = tags_df.append(df1)\n",
      "C:\\Users\\pva\\AppData\\Local\\Temp\\ipykernel_4840\\1870187398.py:9: FutureWarning: The frame.append method is deprecated and will be removed from pandas in a future version. Use pandas.concat instead.\n",
      "  tags_df = tags_df.append(df1)\n",
      "C:\\Users\\pva\\AppData\\Local\\Temp\\ipykernel_4840\\1870187398.py:9: FutureWarning: The frame.append method is deprecated and will be removed from pandas in a future version. Use pandas.concat instead.\n",
      "  tags_df = tags_df.append(df1)\n",
      "C:\\Users\\pva\\AppData\\Local\\Temp\\ipykernel_4840\\1870187398.py:9: FutureWarning: The frame.append method is deprecated and will be removed from pandas in a future version. Use pandas.concat instead.\n",
      "  tags_df = tags_df.append(df1)\n",
      "C:\\Users\\pva\\AppData\\Local\\Temp\\ipykernel_4840\\1870187398.py:9: FutureWarning: The frame.append method is deprecated and will be removed from pandas in a future version. Use pandas.concat instead.\n",
      "  tags_df = tags_df.append(df1)\n",
      "C:\\Users\\pva\\AppData\\Local\\Temp\\ipykernel_4840\\1870187398.py:9: FutureWarning: The frame.append method is deprecated and will be removed from pandas in a future version. Use pandas.concat instead.\n",
      "  tags_df = tags_df.append(df1)\n",
      "C:\\Users\\pva\\AppData\\Local\\Temp\\ipykernel_4840\\1870187398.py:9: FutureWarning: The frame.append method is deprecated and will be removed from pandas in a future version. Use pandas.concat instead.\n",
      "  tags_df = tags_df.append(df1)\n",
      "C:\\Users\\pva\\AppData\\Local\\Temp\\ipykernel_4840\\1870187398.py:9: FutureWarning: The frame.append method is deprecated and will be removed from pandas in a future version. Use pandas.concat instead.\n",
      "  tags_df = tags_df.append(df1)\n",
      "C:\\Users\\pva\\AppData\\Local\\Temp\\ipykernel_4840\\1870187398.py:9: FutureWarning: The frame.append method is deprecated and will be removed from pandas in a future version. Use pandas.concat instead.\n",
      "  tags_df = tags_df.append(df1)\n",
      "C:\\Users\\pva\\AppData\\Local\\Temp\\ipykernel_4840\\1870187398.py:9: FutureWarning: The frame.append method is deprecated and will be removed from pandas in a future version. Use pandas.concat instead.\n",
      "  tags_df = tags_df.append(df1)\n",
      "C:\\Users\\pva\\AppData\\Local\\Temp\\ipykernel_4840\\1870187398.py:9: FutureWarning: The frame.append method is deprecated and will be removed from pandas in a future version. Use pandas.concat instead.\n",
      "  tags_df = tags_df.append(df1)\n",
      "C:\\Users\\pva\\AppData\\Local\\Temp\\ipykernel_4840\\1870187398.py:9: FutureWarning: The frame.append method is deprecated and will be removed from pandas in a future version. Use pandas.concat instead.\n",
      "  tags_df = tags_df.append(df1)\n",
      "C:\\Users\\pva\\AppData\\Local\\Temp\\ipykernel_4840\\1870187398.py:9: FutureWarning: The frame.append method is deprecated and will be removed from pandas in a future version. Use pandas.concat instead.\n",
      "  tags_df = tags_df.append(df1)\n",
      "C:\\Users\\pva\\AppData\\Local\\Temp\\ipykernel_4840\\1870187398.py:9: FutureWarning: The frame.append method is deprecated and will be removed from pandas in a future version. Use pandas.concat instead.\n",
      "  tags_df = tags_df.append(df1)\n",
      "C:\\Users\\pva\\AppData\\Local\\Temp\\ipykernel_4840\\1870187398.py:9: FutureWarning: The frame.append method is deprecated and will be removed from pandas in a future version. Use pandas.concat instead.\n",
      "  tags_df = tags_df.append(df1)\n",
      "C:\\Users\\pva\\AppData\\Local\\Temp\\ipykernel_4840\\1870187398.py:9: FutureWarning: The frame.append method is deprecated and will be removed from pandas in a future version. Use pandas.concat instead.\n",
      "  tags_df = tags_df.append(df1)\n",
      "C:\\Users\\pva\\AppData\\Local\\Temp\\ipykernel_4840\\1870187398.py:9: FutureWarning: The frame.append method is deprecated and will be removed from pandas in a future version. Use pandas.concat instead.\n",
      "  tags_df = tags_df.append(df1)\n",
      "C:\\Users\\pva\\AppData\\Local\\Temp\\ipykernel_4840\\1870187398.py:9: FutureWarning: The frame.append method is deprecated and will be removed from pandas in a future version. Use pandas.concat instead.\n",
      "  tags_df = tags_df.append(df1)\n",
      "C:\\Users\\pva\\AppData\\Local\\Temp\\ipykernel_4840\\1870187398.py:9: FutureWarning: The frame.append method is deprecated and will be removed from pandas in a future version. Use pandas.concat instead.\n",
      "  tags_df = tags_df.append(df1)\n",
      "C:\\Users\\pva\\AppData\\Local\\Temp\\ipykernel_4840\\1870187398.py:9: FutureWarning: The frame.append method is deprecated and will be removed from pandas in a future version. Use pandas.concat instead.\n",
      "  tags_df = tags_df.append(df1)\n",
      "C:\\Users\\pva\\AppData\\Local\\Temp\\ipykernel_4840\\1870187398.py:9: FutureWarning: The frame.append method is deprecated and will be removed from pandas in a future version. Use pandas.concat instead.\n",
      "  tags_df = tags_df.append(df1)\n",
      "C:\\Users\\pva\\AppData\\Local\\Temp\\ipykernel_4840\\1870187398.py:9: FutureWarning: The frame.append method is deprecated and will be removed from pandas in a future version. Use pandas.concat instead.\n",
      "  tags_df = tags_df.append(df1)\n",
      "C:\\Users\\pva\\AppData\\Local\\Temp\\ipykernel_4840\\1870187398.py:9: FutureWarning: The frame.append method is deprecated and will be removed from pandas in a future version. Use pandas.concat instead.\n",
      "  tags_df = tags_df.append(df1)\n",
      "C:\\Users\\pva\\AppData\\Local\\Temp\\ipykernel_4840\\1870187398.py:9: FutureWarning: The frame.append method is deprecated and will be removed from pandas in a future version. Use pandas.concat instead.\n",
      "  tags_df = tags_df.append(df1)\n",
      "C:\\Users\\pva\\AppData\\Local\\Temp\\ipykernel_4840\\1870187398.py:9: FutureWarning: The frame.append method is deprecated and will be removed from pandas in a future version. Use pandas.concat instead.\n",
      "  tags_df = tags_df.append(df1)\n",
      "C:\\Users\\pva\\AppData\\Local\\Temp\\ipykernel_4840\\1870187398.py:9: FutureWarning: The frame.append method is deprecated and will be removed from pandas in a future version. Use pandas.concat instead.\n",
      "  tags_df = tags_df.append(df1)\n",
      "C:\\Users\\pva\\AppData\\Local\\Temp\\ipykernel_4840\\1870187398.py:9: FutureWarning: The frame.append method is deprecated and will be removed from pandas in a future version. Use pandas.concat instead.\n",
      "  tags_df = tags_df.append(df1)\n",
      "C:\\Users\\pva\\AppData\\Local\\Temp\\ipykernel_4840\\1870187398.py:9: FutureWarning: The frame.append method is deprecated and will be removed from pandas in a future version. Use pandas.concat instead.\n",
      "  tags_df = tags_df.append(df1)\n",
      "C:\\Users\\pva\\AppData\\Local\\Temp\\ipykernel_4840\\1870187398.py:9: FutureWarning: The frame.append method is deprecated and will be removed from pandas in a future version. Use pandas.concat instead.\n",
      "  tags_df = tags_df.append(df1)\n",
      "C:\\Users\\pva\\AppData\\Local\\Temp\\ipykernel_4840\\1870187398.py:9: FutureWarning: The frame.append method is deprecated and will be removed from pandas in a future version. Use pandas.concat instead.\n",
      "  tags_df = tags_df.append(df1)\n",
      "C:\\Users\\pva\\AppData\\Local\\Temp\\ipykernel_4840\\1870187398.py:9: FutureWarning: The frame.append method is deprecated and will be removed from pandas in a future version. Use pandas.concat instead.\n",
      "  tags_df = tags_df.append(df1)\n",
      "C:\\Users\\pva\\AppData\\Local\\Temp\\ipykernel_4840\\1870187398.py:9: FutureWarning: The frame.append method is deprecated and will be removed from pandas in a future version. Use pandas.concat instead.\n",
      "  tags_df = tags_df.append(df1)\n",
      "C:\\Users\\pva\\AppData\\Local\\Temp\\ipykernel_4840\\1870187398.py:9: FutureWarning: The frame.append method is deprecated and will be removed from pandas in a future version. Use pandas.concat instead.\n",
      "  tags_df = tags_df.append(df1)\n",
      "C:\\Users\\pva\\AppData\\Local\\Temp\\ipykernel_4840\\1870187398.py:9: FutureWarning: The frame.append method is deprecated and will be removed from pandas in a future version. Use pandas.concat instead.\n",
      "  tags_df = tags_df.append(df1)\n",
      "C:\\Users\\pva\\AppData\\Local\\Temp\\ipykernel_4840\\1870187398.py:9: FutureWarning: The frame.append method is deprecated and will be removed from pandas in a future version. Use pandas.concat instead.\n",
      "  tags_df = tags_df.append(df1)\n",
      "C:\\Users\\pva\\AppData\\Local\\Temp\\ipykernel_4840\\1870187398.py:9: FutureWarning: The frame.append method is deprecated and will be removed from pandas in a future version. Use pandas.concat instead.\n",
      "  tags_df = tags_df.append(df1)\n",
      "C:\\Users\\pva\\AppData\\Local\\Temp\\ipykernel_4840\\1870187398.py:9: FutureWarning: The frame.append method is deprecated and will be removed from pandas in a future version. Use pandas.concat instead.\n",
      "  tags_df = tags_df.append(df1)\n",
      "C:\\Users\\pva\\AppData\\Local\\Temp\\ipykernel_4840\\1870187398.py:9: FutureWarning: The frame.append method is deprecated and will be removed from pandas in a future version. Use pandas.concat instead.\n",
      "  tags_df = tags_df.append(df1)\n",
      "C:\\Users\\pva\\AppData\\Local\\Temp\\ipykernel_4840\\1870187398.py:9: FutureWarning: The frame.append method is deprecated and will be removed from pandas in a future version. Use pandas.concat instead.\n",
      "  tags_df = tags_df.append(df1)\n",
      "C:\\Users\\pva\\AppData\\Local\\Temp\\ipykernel_4840\\1870187398.py:9: FutureWarning: The frame.append method is deprecated and will be removed from pandas in a future version. Use pandas.concat instead.\n",
      "  tags_df = tags_df.append(df1)\n",
      "C:\\Users\\pva\\AppData\\Local\\Temp\\ipykernel_4840\\1870187398.py:9: FutureWarning: The frame.append method is deprecated and will be removed from pandas in a future version. Use pandas.concat instead.\n",
      "  tags_df = tags_df.append(df1)\n",
      "C:\\Users\\pva\\AppData\\Local\\Temp\\ipykernel_4840\\1870187398.py:9: FutureWarning: The frame.append method is deprecated and will be removed from pandas in a future version. Use pandas.concat instead.\n",
      "  tags_df = tags_df.append(df1)\n",
      "C:\\Users\\pva\\AppData\\Local\\Temp\\ipykernel_4840\\1870187398.py:9: FutureWarning: The frame.append method is deprecated and will be removed from pandas in a future version. Use pandas.concat instead.\n",
      "  tags_df = tags_df.append(df1)\n",
      "C:\\Users\\pva\\AppData\\Local\\Temp\\ipykernel_4840\\1870187398.py:9: FutureWarning: The frame.append method is deprecated and will be removed from pandas in a future version. Use pandas.concat instead.\n",
      "  tags_df = tags_df.append(df1)\n",
      "C:\\Users\\pva\\AppData\\Local\\Temp\\ipykernel_4840\\1870187398.py:9: FutureWarning: The frame.append method is deprecated and will be removed from pandas in a future version. Use pandas.concat instead.\n",
      "  tags_df = tags_df.append(df1)\n",
      "C:\\Users\\pva\\AppData\\Local\\Temp\\ipykernel_4840\\1870187398.py:9: FutureWarning: The frame.append method is deprecated and will be removed from pandas in a future version. Use pandas.concat instead.\n",
      "  tags_df = tags_df.append(df1)\n",
      "C:\\Users\\pva\\AppData\\Local\\Temp\\ipykernel_4840\\1870187398.py:9: FutureWarning: The frame.append method is deprecated and will be removed from pandas in a future version. Use pandas.concat instead.\n",
      "  tags_df = tags_df.append(df1)\n",
      "C:\\Users\\pva\\AppData\\Local\\Temp\\ipykernel_4840\\1870187398.py:9: FutureWarning: The frame.append method is deprecated and will be removed from pandas in a future version. Use pandas.concat instead.\n",
      "  tags_df = tags_df.append(df1)\n",
      "C:\\Users\\pva\\AppData\\Local\\Temp\\ipykernel_4840\\1870187398.py:9: FutureWarning: The frame.append method is deprecated and will be removed from pandas in a future version. Use pandas.concat instead.\n",
      "  tags_df = tags_df.append(df1)\n",
      "C:\\Users\\pva\\AppData\\Local\\Temp\\ipykernel_4840\\1870187398.py:9: FutureWarning: The frame.append method is deprecated and will be removed from pandas in a future version. Use pandas.concat instead.\n",
      "  tags_df = tags_df.append(df1)\n",
      "C:\\Users\\pva\\AppData\\Local\\Temp\\ipykernel_4840\\1870187398.py:9: FutureWarning: The frame.append method is deprecated and will be removed from pandas in a future version. Use pandas.concat instead.\n",
      "  tags_df = tags_df.append(df1)\n",
      "C:\\Users\\pva\\AppData\\Local\\Temp\\ipykernel_4840\\1870187398.py:9: FutureWarning: The frame.append method is deprecated and will be removed from pandas in a future version. Use pandas.concat instead.\n",
      "  tags_df = tags_df.append(df1)\n",
      "C:\\Users\\pva\\AppData\\Local\\Temp\\ipykernel_4840\\1870187398.py:9: FutureWarning: The frame.append method is deprecated and will be removed from pandas in a future version. Use pandas.concat instead.\n",
      "  tags_df = tags_df.append(df1)\n",
      "C:\\Users\\pva\\AppData\\Local\\Temp\\ipykernel_4840\\1870187398.py:9: FutureWarning: The frame.append method is deprecated and will be removed from pandas in a future version. Use pandas.concat instead.\n",
      "  tags_df = tags_df.append(df1)\n",
      "C:\\Users\\pva\\AppData\\Local\\Temp\\ipykernel_4840\\1870187398.py:9: FutureWarning: The frame.append method is deprecated and will be removed from pandas in a future version. Use pandas.concat instead.\n",
      "  tags_df = tags_df.append(df1)\n",
      "C:\\Users\\pva\\AppData\\Local\\Temp\\ipykernel_4840\\1870187398.py:9: FutureWarning: The frame.append method is deprecated and will be removed from pandas in a future version. Use pandas.concat instead.\n",
      "  tags_df = tags_df.append(df1)\n",
      "C:\\Users\\pva\\AppData\\Local\\Temp\\ipykernel_4840\\1870187398.py:9: FutureWarning: The frame.append method is deprecated and will be removed from pandas in a future version. Use pandas.concat instead.\n",
      "  tags_df = tags_df.append(df1)\n",
      "C:\\Users\\pva\\AppData\\Local\\Temp\\ipykernel_4840\\1870187398.py:9: FutureWarning: The frame.append method is deprecated and will be removed from pandas in a future version. Use pandas.concat instead.\n",
      "  tags_df = tags_df.append(df1)\n",
      "C:\\Users\\pva\\AppData\\Local\\Temp\\ipykernel_4840\\1870187398.py:9: FutureWarning: The frame.append method is deprecated and will be removed from pandas in a future version. Use pandas.concat instead.\n",
      "  tags_df = tags_df.append(df1)\n",
      "C:\\Users\\pva\\AppData\\Local\\Temp\\ipykernel_4840\\1870187398.py:9: FutureWarning: The frame.append method is deprecated and will be removed from pandas in a future version. Use pandas.concat instead.\n",
      "  tags_df = tags_df.append(df1)\n",
      "C:\\Users\\pva\\AppData\\Local\\Temp\\ipykernel_4840\\1870187398.py:9: FutureWarning: The frame.append method is deprecated and will be removed from pandas in a future version. Use pandas.concat instead.\n",
      "  tags_df = tags_df.append(df1)\n",
      "C:\\Users\\pva\\AppData\\Local\\Temp\\ipykernel_4840\\1870187398.py:9: FutureWarning: The frame.append method is deprecated and will be removed from pandas in a future version. Use pandas.concat instead.\n",
      "  tags_df = tags_df.append(df1)\n",
      "C:\\Users\\pva\\AppData\\Local\\Temp\\ipykernel_4840\\1870187398.py:9: FutureWarning: The frame.append method is deprecated and will be removed from pandas in a future version. Use pandas.concat instead.\n",
      "  tags_df = tags_df.append(df1)\n",
      "C:\\Users\\pva\\AppData\\Local\\Temp\\ipykernel_4840\\1870187398.py:9: FutureWarning: The frame.append method is deprecated and will be removed from pandas in a future version. Use pandas.concat instead.\n",
      "  tags_df = tags_df.append(df1)\n",
      "C:\\Users\\pva\\AppData\\Local\\Temp\\ipykernel_4840\\1870187398.py:9: FutureWarning: The frame.append method is deprecated and will be removed from pandas in a future version. Use pandas.concat instead.\n",
      "  tags_df = tags_df.append(df1)\n",
      "C:\\Users\\pva\\AppData\\Local\\Temp\\ipykernel_4840\\1870187398.py:9: FutureWarning: The frame.append method is deprecated and will be removed from pandas in a future version. Use pandas.concat instead.\n",
      "  tags_df = tags_df.append(df1)\n",
      "C:\\Users\\pva\\AppData\\Local\\Temp\\ipykernel_4840\\1870187398.py:9: FutureWarning: The frame.append method is deprecated and will be removed from pandas in a future version. Use pandas.concat instead.\n",
      "  tags_df = tags_df.append(df1)\n",
      "C:\\Users\\pva\\AppData\\Local\\Temp\\ipykernel_4840\\1870187398.py:9: FutureWarning: The frame.append method is deprecated and will be removed from pandas in a future version. Use pandas.concat instead.\n",
      "  tags_df = tags_df.append(df1)\n",
      "C:\\Users\\pva\\AppData\\Local\\Temp\\ipykernel_4840\\1870187398.py:9: FutureWarning: The frame.append method is deprecated and will be removed from pandas in a future version. Use pandas.concat instead.\n",
      "  tags_df = tags_df.append(df1)\n",
      "C:\\Users\\pva\\AppData\\Local\\Temp\\ipykernel_4840\\1870187398.py:9: FutureWarning: The frame.append method is deprecated and will be removed from pandas in a future version. Use pandas.concat instead.\n",
      "  tags_df = tags_df.append(df1)\n",
      "C:\\Users\\pva\\AppData\\Local\\Temp\\ipykernel_4840\\1870187398.py:9: FutureWarning: The frame.append method is deprecated and will be removed from pandas in a future version. Use pandas.concat instead.\n",
      "  tags_df = tags_df.append(df1)\n",
      "C:\\Users\\pva\\AppData\\Local\\Temp\\ipykernel_4840\\1870187398.py:9: FutureWarning: The frame.append method is deprecated and will be removed from pandas in a future version. Use pandas.concat instead.\n",
      "  tags_df = tags_df.append(df1)\n",
      "C:\\Users\\pva\\AppData\\Local\\Temp\\ipykernel_4840\\1870187398.py:9: FutureWarning: The frame.append method is deprecated and will be removed from pandas in a future version. Use pandas.concat instead.\n",
      "  tags_df = tags_df.append(df1)\n",
      "C:\\Users\\pva\\AppData\\Local\\Temp\\ipykernel_4840\\1870187398.py:9: FutureWarning: The frame.append method is deprecated and will be removed from pandas in a future version. Use pandas.concat instead.\n",
      "  tags_df = tags_df.append(df1)\n",
      "C:\\Users\\pva\\AppData\\Local\\Temp\\ipykernel_4840\\1870187398.py:9: FutureWarning: The frame.append method is deprecated and will be removed from pandas in a future version. Use pandas.concat instead.\n",
      "  tags_df = tags_df.append(df1)\n",
      "C:\\Users\\pva\\AppData\\Local\\Temp\\ipykernel_4840\\1870187398.py:9: FutureWarning: The frame.append method is deprecated and will be removed from pandas in a future version. Use pandas.concat instead.\n",
      "  tags_df = tags_df.append(df1)\n",
      "C:\\Users\\pva\\AppData\\Local\\Temp\\ipykernel_4840\\1870187398.py:9: FutureWarning: The frame.append method is deprecated and will be removed from pandas in a future version. Use pandas.concat instead.\n",
      "  tags_df = tags_df.append(df1)\n",
      "C:\\Users\\pva\\AppData\\Local\\Temp\\ipykernel_4840\\1870187398.py:9: FutureWarning: The frame.append method is deprecated and will be removed from pandas in a future version. Use pandas.concat instead.\n",
      "  tags_df = tags_df.append(df1)\n",
      "C:\\Users\\pva\\AppData\\Local\\Temp\\ipykernel_4840\\1870187398.py:9: FutureWarning: The frame.append method is deprecated and will be removed from pandas in a future version. Use pandas.concat instead.\n",
      "  tags_df = tags_df.append(df1)\n",
      "C:\\Users\\pva\\AppData\\Local\\Temp\\ipykernel_4840\\1870187398.py:9: FutureWarning: The frame.append method is deprecated and will be removed from pandas in a future version. Use pandas.concat instead.\n",
      "  tags_df = tags_df.append(df1)\n",
      "C:\\Users\\pva\\AppData\\Local\\Temp\\ipykernel_4840\\1870187398.py:9: FutureWarning: The frame.append method is deprecated and will be removed from pandas in a future version. Use pandas.concat instead.\n",
      "  tags_df = tags_df.append(df1)\n",
      "C:\\Users\\pva\\AppData\\Local\\Temp\\ipykernel_4840\\1870187398.py:9: FutureWarning: The frame.append method is deprecated and will be removed from pandas in a future version. Use pandas.concat instead.\n",
      "  tags_df = tags_df.append(df1)\n",
      "C:\\Users\\pva\\AppData\\Local\\Temp\\ipykernel_4840\\1870187398.py:9: FutureWarning: The frame.append method is deprecated and will be removed from pandas in a future version. Use pandas.concat instead.\n",
      "  tags_df = tags_df.append(df1)\n",
      "C:\\Users\\pva\\AppData\\Local\\Temp\\ipykernel_4840\\1870187398.py:9: FutureWarning: The frame.append method is deprecated and will be removed from pandas in a future version. Use pandas.concat instead.\n",
      "  tags_df = tags_df.append(df1)\n",
      "C:\\Users\\pva\\AppData\\Local\\Temp\\ipykernel_4840\\1870187398.py:9: FutureWarning: The frame.append method is deprecated and will be removed from pandas in a future version. Use pandas.concat instead.\n",
      "  tags_df = tags_df.append(df1)\n",
      "C:\\Users\\pva\\AppData\\Local\\Temp\\ipykernel_4840\\1870187398.py:9: FutureWarning: The frame.append method is deprecated and will be removed from pandas in a future version. Use pandas.concat instead.\n",
      "  tags_df = tags_df.append(df1)\n",
      "C:\\Users\\pva\\AppData\\Local\\Temp\\ipykernel_4840\\1870187398.py:9: FutureWarning: The frame.append method is deprecated and will be removed from pandas in a future version. Use pandas.concat instead.\n",
      "  tags_df = tags_df.append(df1)\n",
      "C:\\Users\\pva\\AppData\\Local\\Temp\\ipykernel_4840\\1870187398.py:9: FutureWarning: The frame.append method is deprecated and will be removed from pandas in a future version. Use pandas.concat instead.\n",
      "  tags_df = tags_df.append(df1)\n",
      "C:\\Users\\pva\\AppData\\Local\\Temp\\ipykernel_4840\\1870187398.py:9: FutureWarning: The frame.append method is deprecated and will be removed from pandas in a future version. Use pandas.concat instead.\n",
      "  tags_df = tags_df.append(df1)\n",
      "C:\\Users\\pva\\AppData\\Local\\Temp\\ipykernel_4840\\1870187398.py:9: FutureWarning: The frame.append method is deprecated and will be removed from pandas in a future version. Use pandas.concat instead.\n",
      "  tags_df = tags_df.append(df1)\n",
      "C:\\Users\\pva\\AppData\\Local\\Temp\\ipykernel_4840\\1870187398.py:9: FutureWarning: The frame.append method is deprecated and will be removed from pandas in a future version. Use pandas.concat instead.\n",
      "  tags_df = tags_df.append(df1)\n",
      "C:\\Users\\pva\\AppData\\Local\\Temp\\ipykernel_4840\\1870187398.py:9: FutureWarning: The frame.append method is deprecated and will be removed from pandas in a future version. Use pandas.concat instead.\n",
      "  tags_df = tags_df.append(df1)\n",
      "C:\\Users\\pva\\AppData\\Local\\Temp\\ipykernel_4840\\1870187398.py:9: FutureWarning: The frame.append method is deprecated and will be removed from pandas in a future version. Use pandas.concat instead.\n",
      "  tags_df = tags_df.append(df1)\n",
      "C:\\Users\\pva\\AppData\\Local\\Temp\\ipykernel_4840\\1870187398.py:9: FutureWarning: The frame.append method is deprecated and will be removed from pandas in a future version. Use pandas.concat instead.\n",
      "  tags_df = tags_df.append(df1)\n",
      "C:\\Users\\pva\\AppData\\Local\\Temp\\ipykernel_4840\\1870187398.py:9: FutureWarning: The frame.append method is deprecated and will be removed from pandas in a future version. Use pandas.concat instead.\n",
      "  tags_df = tags_df.append(df1)\n",
      "C:\\Users\\pva\\AppData\\Local\\Temp\\ipykernel_4840\\1870187398.py:9: FutureWarning: The frame.append method is deprecated and will be removed from pandas in a future version. Use pandas.concat instead.\n",
      "  tags_df = tags_df.append(df1)\n",
      "C:\\Users\\pva\\AppData\\Local\\Temp\\ipykernel_4840\\1870187398.py:9: FutureWarning: The frame.append method is deprecated and will be removed from pandas in a future version. Use pandas.concat instead.\n",
      "  tags_df = tags_df.append(df1)\n",
      "C:\\Users\\pva\\AppData\\Local\\Temp\\ipykernel_4840\\1870187398.py:9: FutureWarning: The frame.append method is deprecated and will be removed from pandas in a future version. Use pandas.concat instead.\n",
      "  tags_df = tags_df.append(df1)\n",
      "C:\\Users\\pva\\AppData\\Local\\Temp\\ipykernel_4840\\1870187398.py:9: FutureWarning: The frame.append method is deprecated and will be removed from pandas in a future version. Use pandas.concat instead.\n",
      "  tags_df = tags_df.append(df1)\n",
      "C:\\Users\\pva\\AppData\\Local\\Temp\\ipykernel_4840\\1870187398.py:9: FutureWarning: The frame.append method is deprecated and will be removed from pandas in a future version. Use pandas.concat instead.\n",
      "  tags_df = tags_df.append(df1)\n",
      "C:\\Users\\pva\\AppData\\Local\\Temp\\ipykernel_4840\\1870187398.py:9: FutureWarning: The frame.append method is deprecated and will be removed from pandas in a future version. Use pandas.concat instead.\n",
      "  tags_df = tags_df.append(df1)\n",
      "C:\\Users\\pva\\AppData\\Local\\Temp\\ipykernel_4840\\1870187398.py:9: FutureWarning: The frame.append method is deprecated and will be removed from pandas in a future version. Use pandas.concat instead.\n",
      "  tags_df = tags_df.append(df1)\n",
      "C:\\Users\\pva\\AppData\\Local\\Temp\\ipykernel_4840\\1870187398.py:9: FutureWarning: The frame.append method is deprecated and will be removed from pandas in a future version. Use pandas.concat instead.\n",
      "  tags_df = tags_df.append(df1)\n",
      "C:\\Users\\pva\\AppData\\Local\\Temp\\ipykernel_4840\\1870187398.py:9: FutureWarning: The frame.append method is deprecated and will be removed from pandas in a future version. Use pandas.concat instead.\n",
      "  tags_df = tags_df.append(df1)\n",
      "C:\\Users\\pva\\AppData\\Local\\Temp\\ipykernel_4840\\1870187398.py:9: FutureWarning: The frame.append method is deprecated and will be removed from pandas in a future version. Use pandas.concat instead.\n",
      "  tags_df = tags_df.append(df1)\n",
      "C:\\Users\\pva\\AppData\\Local\\Temp\\ipykernel_4840\\1870187398.py:9: FutureWarning: The frame.append method is deprecated and will be removed from pandas in a future version. Use pandas.concat instead.\n",
      "  tags_df = tags_df.append(df1)\n",
      "C:\\Users\\pva\\AppData\\Local\\Temp\\ipykernel_4840\\1870187398.py:9: FutureWarning: The frame.append method is deprecated and will be removed from pandas in a future version. Use pandas.concat instead.\n",
      "  tags_df = tags_df.append(df1)\n",
      "C:\\Users\\pva\\AppData\\Local\\Temp\\ipykernel_4840\\1870187398.py:9: FutureWarning: The frame.append method is deprecated and will be removed from pandas in a future version. Use pandas.concat instead.\n",
      "  tags_df = tags_df.append(df1)\n",
      "C:\\Users\\pva\\AppData\\Local\\Temp\\ipykernel_4840\\1870187398.py:9: FutureWarning: The frame.append method is deprecated and will be removed from pandas in a future version. Use pandas.concat instead.\n",
      "  tags_df = tags_df.append(df1)\n",
      "C:\\Users\\pva\\AppData\\Local\\Temp\\ipykernel_4840\\1870187398.py:9: FutureWarning: The frame.append method is deprecated and will be removed from pandas in a future version. Use pandas.concat instead.\n",
      "  tags_df = tags_df.append(df1)\n",
      "C:\\Users\\pva\\AppData\\Local\\Temp\\ipykernel_4840\\1870187398.py:9: FutureWarning: The frame.append method is deprecated and will be removed from pandas in a future version. Use pandas.concat instead.\n",
      "  tags_df = tags_df.append(df1)\n",
      "C:\\Users\\pva\\AppData\\Local\\Temp\\ipykernel_4840\\1870187398.py:9: FutureWarning: The frame.append method is deprecated and will be removed from pandas in a future version. Use pandas.concat instead.\n",
      "  tags_df = tags_df.append(df1)\n",
      "C:\\Users\\pva\\AppData\\Local\\Temp\\ipykernel_4840\\1870187398.py:9: FutureWarning: The frame.append method is deprecated and will be removed from pandas in a future version. Use pandas.concat instead.\n",
      "  tags_df = tags_df.append(df1)\n",
      "C:\\Users\\pva\\AppData\\Local\\Temp\\ipykernel_4840\\1870187398.py:9: FutureWarning: The frame.append method is deprecated and will be removed from pandas in a future version. Use pandas.concat instead.\n",
      "  tags_df = tags_df.append(df1)\n",
      "C:\\Users\\pva\\AppData\\Local\\Temp\\ipykernel_4840\\1870187398.py:9: FutureWarning: The frame.append method is deprecated and will be removed from pandas in a future version. Use pandas.concat instead.\n",
      "  tags_df = tags_df.append(df1)\n",
      "C:\\Users\\pva\\AppData\\Local\\Temp\\ipykernel_4840\\1870187398.py:9: FutureWarning: The frame.append method is deprecated and will be removed from pandas in a future version. Use pandas.concat instead.\n",
      "  tags_df = tags_df.append(df1)\n",
      "C:\\Users\\pva\\AppData\\Local\\Temp\\ipykernel_4840\\1870187398.py:9: FutureWarning: The frame.append method is deprecated and will be removed from pandas in a future version. Use pandas.concat instead.\n",
      "  tags_df = tags_df.append(df1)\n",
      "C:\\Users\\pva\\AppData\\Local\\Temp\\ipykernel_4840\\1870187398.py:9: FutureWarning: The frame.append method is deprecated and will be removed from pandas in a future version. Use pandas.concat instead.\n",
      "  tags_df = tags_df.append(df1)\n",
      "C:\\Users\\pva\\AppData\\Local\\Temp\\ipykernel_4840\\1870187398.py:9: FutureWarning: The frame.append method is deprecated and will be removed from pandas in a future version. Use pandas.concat instead.\n",
      "  tags_df = tags_df.append(df1)\n",
      "C:\\Users\\pva\\AppData\\Local\\Temp\\ipykernel_4840\\1870187398.py:9: FutureWarning: The frame.append method is deprecated and will be removed from pandas in a future version. Use pandas.concat instead.\n",
      "  tags_df = tags_df.append(df1)\n",
      "C:\\Users\\pva\\AppData\\Local\\Temp\\ipykernel_4840\\1870187398.py:9: FutureWarning: The frame.append method is deprecated and will be removed from pandas in a future version. Use pandas.concat instead.\n",
      "  tags_df = tags_df.append(df1)\n",
      "C:\\Users\\pva\\AppData\\Local\\Temp\\ipykernel_4840\\1870187398.py:9: FutureWarning: The frame.append method is deprecated and will be removed from pandas in a future version. Use pandas.concat instead.\n",
      "  tags_df = tags_df.append(df1)\n",
      "C:\\Users\\pva\\AppData\\Local\\Temp\\ipykernel_4840\\1870187398.py:9: FutureWarning: The frame.append method is deprecated and will be removed from pandas in a future version. Use pandas.concat instead.\n",
      "  tags_df = tags_df.append(df1)\n",
      "C:\\Users\\pva\\AppData\\Local\\Temp\\ipykernel_4840\\1870187398.py:9: FutureWarning: The frame.append method is deprecated and will be removed from pandas in a future version. Use pandas.concat instead.\n",
      "  tags_df = tags_df.append(df1)\n",
      "C:\\Users\\pva\\AppData\\Local\\Temp\\ipykernel_4840\\1870187398.py:9: FutureWarning: The frame.append method is deprecated and will be removed from pandas in a future version. Use pandas.concat instead.\n",
      "  tags_df = tags_df.append(df1)\n",
      "C:\\Users\\pva\\AppData\\Local\\Temp\\ipykernel_4840\\1870187398.py:9: FutureWarning: The frame.append method is deprecated and will be removed from pandas in a future version. Use pandas.concat instead.\n",
      "  tags_df = tags_df.append(df1)\n",
      "C:\\Users\\pva\\AppData\\Local\\Temp\\ipykernel_4840\\1870187398.py:9: FutureWarning: The frame.append method is deprecated and will be removed from pandas in a future version. Use pandas.concat instead.\n",
      "  tags_df = tags_df.append(df1)\n",
      "C:\\Users\\pva\\AppData\\Local\\Temp\\ipykernel_4840\\1870187398.py:9: FutureWarning: The frame.append method is deprecated and will be removed from pandas in a future version. Use pandas.concat instead.\n",
      "  tags_df = tags_df.append(df1)\n"
     ]
    },
    {
     "data": {
      "text/html": [
       "<div>\n",
       "<style scoped>\n",
       "    .dataframe tbody tr th:only-of-type {\n",
       "        vertical-align: middle;\n",
       "    }\n",
       "\n",
       "    .dataframe tbody tr th {\n",
       "        vertical-align: top;\n",
       "    }\n",
       "\n",
       "    .dataframe thead th {\n",
       "        text-align: right;\n",
       "    }\n",
       "</style>\n",
       "<table border=\"1\" class=\"dataframe\">\n",
       "  <thead>\n",
       "    <tr style=\"text-align: right;\">\n",
       "      <th></th>\n",
       "      <th>Wrong</th>\n",
       "      <th>Right</th>\n",
       "      <th>Total_questions</th>\n",
       "      <th>Question_ids_with_tag</th>\n",
       "      <th>Percent_correct</th>\n",
       "    </tr>\n",
       "    <tr>\n",
       "      <th>tag</th>\n",
       "      <th></th>\n",
       "      <th></th>\n",
       "      <th></th>\n",
       "      <th></th>\n",
       "      <th></th>\n",
       "    </tr>\n",
       "  </thead>\n",
       "  <tbody>\n",
       "    <tr>\n",
       "      <th>24</th>\n",
       "      <td>157631</td>\n",
       "      <td>98982</td>\n",
       "      <td>256613</td>\n",
       "      <td>17</td>\n",
       "      <td>0.385725</td>\n",
       "    </tr>\n",
       "    <tr>\n",
       "      <th>23</th>\n",
       "      <td>261611</td>\n",
       "      <td>204293</td>\n",
       "      <td>465904</td>\n",
       "      <td>11</td>\n",
       "      <td>0.438487</td>\n",
       "    </tr>\n",
       "    <tr>\n",
       "      <th>19</th>\n",
       "      <td>173602</td>\n",
       "      <td>136367</td>\n",
       "      <td>309969</td>\n",
       "      <td>57</td>\n",
       "      <td>0.439938</td>\n",
       "    </tr>\n",
       "    <tr>\n",
       "      <th>151</th>\n",
       "      <td>272267</td>\n",
       "      <td>264913</td>\n",
       "      <td>537180</td>\n",
       "      <td>16</td>\n",
       "      <td>0.493155</td>\n",
       "    </tr>\n",
       "    <tr>\n",
       "      <th>167</th>\n",
       "      <td>170386</td>\n",
       "      <td>170681</td>\n",
       "      <td>341067</td>\n",
       "      <td>11</td>\n",
       "      <td>0.500432</td>\n",
       "    </tr>\n",
       "  </tbody>\n",
       "</table>\n",
       "</div>"
      ],
      "text/plain": [
       "      Wrong   Right  Total_questions  Question_ids_with_tag  Percent_correct\n",
       "tag                                                                         \n",
       "24   157631   98982           256613                     17         0.385725\n",
       "23   261611  204293           465904                     11         0.438487\n",
       "19   173602  136367           309969                     57         0.439938\n",
       "151  272267  264913           537180                     16         0.493155\n",
       "167  170386  170681           341067                     11         0.500432"
      ]
     },
     "execution_count": 16,
     "metadata": {},
     "output_type": "execute_result"
    }
   ],
   "source": [
    "tags_df = pd.DataFrame()\n",
    "for x in range(len(tags)):\n",
    "    df = questions[questions.tags.apply(lambda l: tags[x] in l)]\n",
    "    df1 = df.agg({'Wrong': ['sum'], 'Right': ['sum']})\n",
    "    df1['Total_questions'] = df1.Wrong + df1.Right\n",
    "    df1['Question_ids_with_tag'] = len(df)\n",
    "    df1['tag'] = tags[x]\n",
    "    df1 = df1.set_index('tag')\n",
    "    tags_df = tags_df.append(df1)\n",
    "\n",
    "tags_df[['Wrong', 'Right', 'Total_questions']] = tags_df[['Wrong', 'Right', 'Total_questions']].astype(int)\n",
    "tags_df['Percent_correct'] = tags_df.Right/tags_df.Total_questions\n",
    "tags_df = tags_df.sort_values(by = \"Percent_correct\")\n",
    "\n",
    "tags_df.head()"
   ]
  },
  {
   "cell_type": "code",
   "execution_count": 17,
   "metadata": {},
   "outputs": [
    {
     "data": {
      "image/png": "[encoded data removed]",
      "text/plain": [
       "<Figure size 864x432 with 1 Axes>"
      ]
     },
     "metadata": {
      "needs_background": "light"
     },
     "output_type": "display_data"
    }
   ],
   "source": [
    "select_rows = list(range(0,10)) + list(range(178, len(tags_df)))\n",
    "tags_select = tags_df.iloc[select_rows,4]\n",
    "\n",
    "fig = plt.figure(figsize=(12,6))\n",
    "x = tags_select.index\n",
    "y = tags_select.values\n",
    "clrs = ['red' if y < 0.6 else 'green' for y in tags_select.values]\n",
    "tags_select.plot.bar(x, y, color=clrs)\n",
    "plt.title(\"Ten hardest and ten easiest tags\")\n",
    "plt.xlabel(\"Tag\")\n",
    "plt.ylabel(\"Percent answers correct of questions with the tag\")\n",
    "plt.xticks(rotation=90)\n",
    "plt.show()"
   ]
  },
  {
   "cell_type": "code",
   "execution_count": 18,
   "metadata": {},
   "outputs": [
    {
     "data": {
      "image/png": "[encoded data removed]",
      "text/plain": [
       "<Figure size 864x432 with 1 Axes>"
      ]
     },
     "metadata": {
      "needs_background": "light"
     },
     "output_type": "display_data"
    }
   ],
   "source": [
    "tags_select = tags_df.sort_values(by = \"Total_questions\", ascending = False).iloc[:30,:]\n",
    "tags_select = tags_select[\"Total_questions\"]\n",
    "\n",
    "fig = plt.figure(figsize=(12,6))\n",
    "ax = tags_select.plot.bar()\n",
    "plt.title(\"Thirty tags with most questions answered\")\n",
    "plt.xticks(rotation=90)\n",
    "plt.ticklabel_format(style='plain', axis='y')\n",
    "ax.get_yaxis().set_major_formatter(FuncFormatter(lambda x, p: format(int(x), ','))) #add thousands separator\n",
    "plt.show()"
   ]
  },
  {
   "cell_type": "code",
   "execution_count": 19,
   "metadata": {},
   "outputs": [
    {
     "data": {
      "image/png": "[encoded data removed]",
      "text/plain": [
       "<Figure size 864x576 with 2 Axes>"
      ]
     },
     "metadata": {
      "needs_background": "light"
     },
     "output_type": "display_data"
    }
   ],
   "source": [
    "fig = plt.figure(figsize=(12,8))\n",
    "ax1 = fig.add_subplot(211)\n",
    "ax1 = questions.groupby(\"part\").count()['question_id'].plot.bar()\n",
    "plt.title(\"Counts of part\")\n",
    "plt.xlabel(\"Part\")\n",
    "plt.xticks(rotation=0)\n",
    "\n",
    "part = questions.groupby('part').agg({'Wrong': ['sum'], 'Right': ['sum']})\n",
    "part['Percent_correct'] = part.Right/(part.Right + part.Wrong)\n",
    "part = part.iloc[:,2]\n",
    "\n",
    "ax2 = fig.add_subplot(212)\n",
    "plt.bar(part.index, part.values)\n",
    "for i, v in zip(part.index, part.values):\n",
    "    plt.text(i, v, round(v,2), color='white', fontweight='bold', fontsize=14, va='top', ha='center')\n",
    "\n",
    "plt.title(\"Percent_correct by part\")\n",
    "plt.xlabel(\"Part\")\n",
    "plt.xticks(rotation=0)\n",
    "plt.tight_layout(pad=2)\n",
    "plt.show()"
   ]
  },
  {
   "cell_type": "markdown",
   "metadata": {},
   "source": [
    "# Исследуем \"Lectures.csv\"\n",
    "## Список колонок и краткое их описание:\n",
    "* lecture_id: внешний ключ(foreign key) для связывание данной информации с таблицей train.\n",
    "* type_of: краткое описание основной цели лекции.\n",
    "* part: один из семи типов, который был в таблице с вопросами.\n",
    "* tag: один тэг в качестве числа, который представляет лекцию, его значение не дано, также как и в вопросах.\n"
   ]
  },
  {
   "cell_type": "code",
   "execution_count": 21,
   "metadata": {},
   "outputs": [
    {
     "data": {
      "text/html": [
       "<div>\n",
       "<style scoped>\n",
       "    .dataframe tbody tr th:only-of-type {\n",
       "        vertical-align: middle;\n",
       "    }\n",
       "\n",
       "    .dataframe tbody tr th {\n",
       "        vertical-align: top;\n",
       "    }\n",
       "\n",
       "    .dataframe thead th {\n",
       "        text-align: right;\n",
       "    }\n",
       "</style>\n",
       "<table border=\"1\" class=\"dataframe\">\n",
       "  <thead>\n",
       "    <tr style=\"text-align: right;\">\n",
       "      <th></th>\n",
       "      <th>lecture_id</th>\n",
       "      <th>tag</th>\n",
       "      <th>part</th>\n",
       "      <th>type_of</th>\n",
       "    </tr>\n",
       "  </thead>\n",
       "  <tbody>\n",
       "    <tr>\n",
       "      <th>0</th>\n",
       "      <td>89</td>\n",
       "      <td>159</td>\n",
       "      <td>5</td>\n",
       "      <td>concept</td>\n",
       "    </tr>\n",
       "    <tr>\n",
       "      <th>1</th>\n",
       "      <td>100</td>\n",
       "      <td>70</td>\n",
       "      <td>1</td>\n",
       "      <td>concept</td>\n",
       "    </tr>\n",
       "    <tr>\n",
       "      <th>2</th>\n",
       "      <td>185</td>\n",
       "      <td>45</td>\n",
       "      <td>6</td>\n",
       "      <td>concept</td>\n",
       "    </tr>\n",
       "    <tr>\n",
       "      <th>3</th>\n",
       "      <td>192</td>\n",
       "      <td>79</td>\n",
       "      <td>5</td>\n",
       "      <td>solving question</td>\n",
       "    </tr>\n",
       "    <tr>\n",
       "      <th>4</th>\n",
       "      <td>317</td>\n",
       "      <td>156</td>\n",
       "      <td>5</td>\n",
       "      <td>solving question</td>\n",
       "    </tr>\n",
       "    <tr>\n",
       "      <th>5</th>\n",
       "      <td>335</td>\n",
       "      <td>114</td>\n",
       "      <td>2</td>\n",
       "      <td>concept</td>\n",
       "    </tr>\n",
       "    <tr>\n",
       "      <th>6</th>\n",
       "      <td>484</td>\n",
       "      <td>179</td>\n",
       "      <td>5</td>\n",
       "      <td>concept</td>\n",
       "    </tr>\n",
       "    <tr>\n",
       "      <th>7</th>\n",
       "      <td>641</td>\n",
       "      <td>134</td>\n",
       "      <td>6</td>\n",
       "      <td>solving question</td>\n",
       "    </tr>\n",
       "    <tr>\n",
       "      <th>8</th>\n",
       "      <td>761</td>\n",
       "      <td>93</td>\n",
       "      <td>1</td>\n",
       "      <td>concept</td>\n",
       "    </tr>\n",
       "    <tr>\n",
       "      <th>9</th>\n",
       "      <td>814</td>\n",
       "      <td>80</td>\n",
       "      <td>5</td>\n",
       "      <td>solving question</td>\n",
       "    </tr>\n",
       "  </tbody>\n",
       "</table>\n",
       "</div>"
      ],
      "text/plain": [
       "   lecture_id  tag  part           type_of\n",
       "0          89  159     5           concept\n",
       "1         100   70     1           concept\n",
       "2         185   45     6           concept\n",
       "3         192   79     5  solving question\n",
       "4         317  156     5  solving question\n",
       "5         335  114     2           concept\n",
       "6         484  179     5           concept\n",
       "7         641  134     6  solving question\n",
       "8         761   93     1           concept\n",
       "9         814   80     5  solving question"
      ]
     },
     "execution_count": 21,
     "metadata": {},
     "output_type": "execute_result"
    }
   ],
   "source": [
    "df_lectures = pd.read_csv('data/lectures.csv')\n",
    "df_lectures.head(10)"
   ]
  },
  {
   "cell_type": "code",
   "execution_count": 22,
   "metadata": {},
   "outputs": [
    {
     "name": "stdout",
     "output_type": "stream",
     "text": [
      "<class 'pandas.core.frame.DataFrame'>\n",
      "RangeIndex: 418 entries, 0 to 417\n",
      "Data columns (total 4 columns):\n",
      " #   Column      Non-Null Count  Dtype \n",
      "---  ------      --------------  ----- \n",
      " 0   lecture_id  418 non-null    int64 \n",
      " 1   tag         418 non-null    int64 \n",
      " 2   part        418 non-null    int64 \n",
      " 3   type_of     418 non-null    object\n",
      "dtypes: int64(3), object(1)\n",
      "memory usage: 13.2+ KB\n"
     ]
    }
   ],
   "source": [
    "df_lectures.info()"
   ]
  },
  {
   "cell_type": "code",
   "execution_count": 24,
   "metadata": {},
   "outputs": [
    {
     "data": {
      "text/plain": [
       "concept             222\n",
       "solving question    186\n",
       "intention             7\n",
       "starter               3\n",
       "Name: type_of, dtype: int64"
      ]
     },
     "metadata": {},
     "output_type": "display_data"
    }
   ],
   "source": [
    "lect_type_of = df_lectures['type_of'].value_counts()\n",
    "display(lect_type_of)"
   ]
  },
  {
   "cell_type": "code",
   "execution_count": 26,
   "metadata": {},
   "outputs": [
    {
     "data": {
      "image/png": "[encoded data removed]",
      "text/plain": [
       "<Figure size 864x432 with 1 Axes>"
      ]
     },
     "metadata": {
      "needs_background": "light"
     },
     "output_type": "display_data"
    }
   ],
   "source": [
    "fig = plt.figure(figsize=(12,6))\n",
    "plt.bar(lect_type_of.index, lect_type_of.values)\n",
    "for i, v in zip(lect_type_of.index, lect_type_of.values):\n",
    "    plt.text(i, v, v, color='black', fontweight='bold', fontsize=14, va='bottom', ha='center')\n",
    "plt.title(\"Types of lectures\")\n",
    "plt.xlabel(\"type_of\")\n",
    "plt.ylabel(\"Count lecture_id\")\n",
    "plt.xticks(rotation=0)\n",
    "plt.show()"
   ]
  },
  {
   "cell_type": "code",
   "execution_count": 27,
   "metadata": {},
   "outputs": [
    {
     "name": "stdout",
     "output_type": "stream",
     "text": [
      "False    244050\n",
      "True     149606\n",
      "Name: Watches_lecture, dtype: int64\n"
     ]
    },
    {
     "data": {
      "image/png": "[encoded data removed]",
      "text/plain": [
       "<Figure size 864x288 with 1 Axes>"
      ]
     },
     "metadata": {
      "needs_background": "light"
     },
     "output_type": "display_data"
    }
   ],
   "source": [
    "user_lect = df_train.groupby([\"user_id\", \"answered_correctly\"]).size().unstack()\n",
    "user_lect.columns = ['Lecture', 'Wrong', 'Right']\n",
    "user_lect['Lecture'] = user_lect['Lecture'].fillna(0)\n",
    "user_lect = user_lect.astype('Int64')\n",
    "user_lect['Watches_lecture'] = np.where(user_lect.Lecture > 0, True, False)\n",
    "\n",
    "watches_l = user_lect.groupby(\"Watches_lecture\").agg({'Wrong': ['sum'], 'Right': ['sum']})\n",
    "print(user_lect.Watches_lecture.value_counts())\n",
    "\n",
    "watches_l['Percent_correct'] = watches_l.Right/(watches_l.Right + watches_l.Wrong)\n",
    "\n",
    "watches_l = watches_l.iloc[:,2]\n",
    "\n",
    "fig = plt.figure(figsize=(12,4))\n",
    "watches_l.plot.barh()\n",
    "for i, v in zip(watches_l.index, watches_l.values):\n",
    "    plt.text(v, i, round(v,2), color='white', fontweight='bold', fontsize=14, ha='right', va='center')\n",
    "\n",
    "plt.title(\"User watches lectures: Percent_correct\")\n",
    "plt.xlabel(\"Percent correct\")\n",
    "plt.ylabel(\"User watched at least one lecture\")\n",
    "plt.xticks(rotation=0)\n",
    "plt.show()"
   ]
  },
  {
   "cell_type": "code",
   "execution_count": 28,
   "metadata": {},
   "outputs": [
    {
     "name": "stdout",
     "output_type": "stream",
     "text": [
      "The highest number of lectures watched within a single task_container_id is 5143.\n"
     ]
    }
   ],
   "source": [
    "batch_lect = df_train.groupby([\"task_container_id\", \"answered_correctly\"]).size().unstack()\n",
    "batch_lect.columns = ['Lecture', 'Wrong', 'Right']\n",
    "batch_lect['Lecture'] = batch_lect['Lecture'].fillna(0)\n",
    "batch_lect = batch_lect.astype('Int64')\n",
    "batch_lect['Percent_correct'] = batch_lect.Right/(batch_lect.Wrong + batch_lect.Right)\n",
    "batch_lect['Percent_lecture'] = batch_lect.Lecture/(batch_lect.Lecture + batch_lect.Wrong + batch_lect.Right)\n",
    "batch_lect = batch_lect.sort_values(by = \"Percent_lecture\", ascending = False)\n",
    "\n",
    "print(f'The highest number of lectures watched within a single task_container_id is {batch_lect.Lecture.max()}.')"
   ]
  },
  {
   "cell_type": "code",
   "execution_count": 29,
   "metadata": {},
   "outputs": [
    {
     "data": {
      "text/html": [
       "<div>\n",
       "<style scoped>\n",
       "    .dataframe tbody tr th:only-of-type {\n",
       "        vertical-align: middle;\n",
       "    }\n",
       "\n",
       "    .dataframe tbody tr th {\n",
       "        vertical-align: top;\n",
       "    }\n",
       "\n",
       "    .dataframe thead th {\n",
       "        text-align: right;\n",
       "    }\n",
       "</style>\n",
       "<table border=\"1\" class=\"dataframe\">\n",
       "  <thead>\n",
       "    <tr style=\"text-align: right;\">\n",
       "      <th></th>\n",
       "      <th>Lecture</th>\n",
       "      <th>Wrong</th>\n",
       "      <th>Right</th>\n",
       "      <th>Percent_correct</th>\n",
       "      <th>Percent_lecture</th>\n",
       "    </tr>\n",
       "    <tr>\n",
       "      <th>task_container_id</th>\n",
       "      <th></th>\n",
       "      <th></th>\n",
       "      <th></th>\n",
       "      <th></th>\n",
       "      <th></th>\n",
       "    </tr>\n",
       "  </thead>\n",
       "  <tbody>\n",
       "    <tr>\n",
       "      <th>9096</th>\n",
       "      <td>8</td>\n",
       "      <td>57</td>\n",
       "      <td>191</td>\n",
       "      <td>0.770161</td>\n",
       "      <td>0.03125</td>\n",
       "    </tr>\n",
       "    <tr>\n",
       "      <th>270</th>\n",
       "      <td>2265</td>\n",
       "      <td>26105</td>\n",
       "      <td>52352</td>\n",
       "      <td>0.66727</td>\n",
       "      <td>0.028059</td>\n",
       "    </tr>\n",
       "    <tr>\n",
       "      <th>477</th>\n",
       "      <td>1428</td>\n",
       "      <td>16166</td>\n",
       "      <td>33427</td>\n",
       "      <td>0.674027</td>\n",
       "      <td>0.027988</td>\n",
       "    </tr>\n",
       "    <tr>\n",
       "      <th>253</th>\n",
       "      <td>2343</td>\n",
       "      <td>27380</td>\n",
       "      <td>54798</td>\n",
       "      <td>0.666821</td>\n",
       "      <td>0.027721</td>\n",
       "    </tr>\n",
       "    <tr>\n",
       "      <th>351</th>\n",
       "      <td>1835</td>\n",
       "      <td>21225</td>\n",
       "      <td>43158</td>\n",
       "      <td>0.670332</td>\n",
       "      <td>0.027711</td>\n",
       "    </tr>\n",
       "  </tbody>\n",
       "</table>\n",
       "</div>"
      ],
      "text/plain": [
       "                   Lecture  Wrong  Right  Percent_correct  Percent_lecture\n",
       "task_container_id                                                         \n",
       "9096                     8     57    191         0.770161          0.03125\n",
       "270                   2265  26105  52352          0.66727         0.028059\n",
       "477                   1428  16166  33427         0.674027         0.027988\n",
       "253                   2343  27380  54798         0.666821         0.027721\n",
       "351                   1835  21225  43158         0.670332         0.027711"
      ]
     },
     "execution_count": 29,
     "metadata": {},
     "output_type": "execute_result"
    }
   ],
   "source": [
    "batch_lect.head()"
   ]
  },
  {
   "cell_type": "code",
   "execution_count": 31,
   "metadata": {},
   "outputs": [
    {
     "data": {
      "image/png": "[encoded data removed]",
      "text/plain": [
       "<Figure size 864x432 with 1 Axes>"
      ]
     },
     "metadata": {
      "needs_background": "light"
     },
     "output_type": "display_data"
    }
   ],
   "source": [
    "batch = batch_lect.iloc[:, 3:]\n",
    "\n",
    "fig = plt.figure(figsize=(12,6))\n",
    "x = batch.Percent_lecture\n",
    "y = batch.Percent_correct\n",
    "plt.scatter(x, y, marker='o')\n",
    "plt.title(\"Percent lectures in a task_container versus percent answered correctly\")\n",
    "plt.xticks(rotation=0)\n",
    "plt.xlabel(\"Percent lectures\")\n",
    "plt.ylabel(\"Percent answered correctly\")\n",
    "\n",
    "plt.show()"
   ]
  },
  {
   "cell_type": "code",
   "execution_count": null,
   "metadata": {},
   "outputs": [],
   "source": []
  }
 ],
 "metadata": {
  "kernelspec": {
   "display_name": "Python 3.9.12 ('base')",
   "language": "python",
   "name": "python3"
  },
  "language_info": {
   "codemirror_mode": {
    "name": "ipython",
    "version": 3
   },
   "file_extension": ".py",
   "mimetype": "text/x-python",
   "name": "python",
   "nbconvert_exporter": "python",
   "pygments_lexer": "ipython3",
   "version": "3.9.12"
  },
  "orig_nbformat": 4,
  "vscode": {
   "interpreter": {
    "hash": "e10a17533934dc6b8d82697788a840b92d8bd6d6c7b26fa1e04464e5b821c735"
   }
  }
 },
 "nbformat": 4,
 "nbformat_minor": 2
}
